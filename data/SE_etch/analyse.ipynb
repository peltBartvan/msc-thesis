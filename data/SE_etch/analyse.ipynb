{
 "cells": [
  {
   "cell_type": "code",
   "execution_count": 1,
   "metadata": {},
   "outputs": [],
   "source": [
    "import sys\n",
    "sys.path.append('/home/bart/Documents/Msc/scripts/PMP_importlib')\n",
    "from dataHoarder import importFiles\n",
    "import measurement as ms"
   ]
  },
  {
   "cell_type": "code",
   "execution_count": 2,
   "metadata": {},
   "outputs": [],
   "source": [
    "import pandas as pd\n",
    "from matplotlib import pyplot as plt"
   ]
  },
  {
   "cell_type": "code",
   "execution_count": 3,
   "metadata": {},
   "outputs": [],
   "source": [
    "def fileparser(filename):\n",
    "    # remove the extension\n",
    "    path_and_name, _ = filename.split('.')\n",
    "    # get the name of the actual file, forgetting its path\n",
    "    name = path_and_name.split('/')[-1]\n",
    "    # get the parameters from the filename\n",
    "    doping, anneal, time, etched = name.split('_')\n",
    "    # pack them in a dict\n",
    "    rv = {'time' : time,\n",
    "          'etched': etched}    \n",
    "    # and return the dict\n",
    "    return rv    "
   ]
  },
  {
   "cell_type": "code",
   "execution_count": 4,
   "metadata": {},
   "outputs": [
    {
     "data": {
      "text/plain": [
       "['datafiles/r24_asdep_30S_before.SEsnap',\n",
       " 'datafiles/r24_asdep_30S_after.SEsnap',\n",
       " 'datafiles/r24_asdep_1M_before.SEsnap',\n",
       " 'datafiles/r24_asdep_1M_after.SEsnap',\n",
       " 'datafiles/r24_asdep_2M_before.SEsnap',\n",
       " 'datafiles/r24_asdep_2M_after.SEsnap',\n",
       " 'datafiles/r24_asdep_3M_before.SEsnap',\n",
       " 'datafiles/r24_asdep_3M_after.SEsnap',\n",
       " 'datafiles/r24_asdep_4M_before.SEsnap',\n",
       " 'datafiles/r24_asdep_4M_after.SEsnap',\n",
       " 'datafiles/r24_asdep_5M_before.SEsnap',\n",
       " 'datafiles/r24_asdep_5M_after.SEsnap']"
      ]
     },
     "execution_count": 4,
     "metadata": {},
     "output_type": "execute_result"
    }
   ],
   "source": [
    "base = 'r24_asdep'\n",
    "times = ['30S','1M','2M','3M','4M','5M']\n",
    "files = [base + '_' + time for time in times]\n",
    "files = [file + '_' + etched for file in files for etched in ['before','after']]\n",
    "files = [file + '.SEsnap' for file in files]\n",
    "files = ['datafiles/' + file for file in files]\n",
    "files"
   ]
  },
  {
   "cell_type": "code",
   "execution_count": 5,
   "metadata": {},
   "outputs": [
    {
     "name": "stderr",
     "output_type": "stream",
     "text": [
      "/home/bart/Documents/Msc/scripts/PMP_importlib/dataHoarder.py:9: FutureWarning: The frame.append method is deprecated and will be removed from pandas in a future version. Use pandas.concat instead.\n",
      "  df = df.append({**metadata, **data}, ignore_index=True)\n",
      "/home/bart/Documents/Msc/scripts/PMP_importlib/dataHoarder.py:9: FutureWarning: The frame.append method is deprecated and will be removed from pandas in a future version. Use pandas.concat instead.\n",
      "  df = df.append({**metadata, **data}, ignore_index=True)\n",
      "/home/bart/Documents/Msc/scripts/PMP_importlib/dataHoarder.py:9: FutureWarning: The frame.append method is deprecated and will be removed from pandas in a future version. Use pandas.concat instead.\n",
      "  df = df.append({**metadata, **data}, ignore_index=True)\n",
      "/home/bart/Documents/Msc/scripts/PMP_importlib/dataHoarder.py:9: FutureWarning: The frame.append method is deprecated and will be removed from pandas in a future version. Use pandas.concat instead.\n",
      "  df = df.append({**metadata, **data}, ignore_index=True)\n",
      "/home/bart/Documents/Msc/scripts/PMP_importlib/dataHoarder.py:9: FutureWarning: The frame.append method is deprecated and will be removed from pandas in a future version. Use pandas.concat instead.\n",
      "  df = df.append({**metadata, **data}, ignore_index=True)\n",
      "/home/bart/Documents/Msc/scripts/PMP_importlib/dataHoarder.py:9: FutureWarning: The frame.append method is deprecated and will be removed from pandas in a future version. Use pandas.concat instead.\n",
      "  df = df.append({**metadata, **data}, ignore_index=True)\n",
      "/home/bart/Documents/Msc/scripts/PMP_importlib/dataHoarder.py:9: FutureWarning: The frame.append method is deprecated and will be removed from pandas in a future version. Use pandas.concat instead.\n",
      "  df = df.append({**metadata, **data}, ignore_index=True)\n",
      "/home/bart/Documents/Msc/scripts/PMP_importlib/dataHoarder.py:9: FutureWarning: The frame.append method is deprecated and will be removed from pandas in a future version. Use pandas.concat instead.\n",
      "  df = df.append({**metadata, **data}, ignore_index=True)\n",
      "/home/bart/Documents/Msc/scripts/PMP_importlib/dataHoarder.py:9: FutureWarning: The frame.append method is deprecated and will be removed from pandas in a future version. Use pandas.concat instead.\n",
      "  df = df.append({**metadata, **data}, ignore_index=True)\n",
      "/home/bart/Documents/Msc/scripts/PMP_importlib/dataHoarder.py:9: FutureWarning: The frame.append method is deprecated and will be removed from pandas in a future version. Use pandas.concat instead.\n",
      "  df = df.append({**metadata, **data}, ignore_index=True)\n",
      "/home/bart/Documents/Msc/scripts/PMP_importlib/dataHoarder.py:9: FutureWarning: The frame.append method is deprecated and will be removed from pandas in a future version. Use pandas.concat instead.\n",
      "  df = df.append({**metadata, **data}, ignore_index=True)\n",
      "/home/bart/Documents/Msc/scripts/PMP_importlib/dataHoarder.py:9: FutureWarning: The frame.append method is deprecated and will be removed from pandas in a future version. Use pandas.concat instead.\n",
      "  df = df.append({**metadata, **data}, ignore_index=True)\n"
     ]
    }
   ],
   "source": [
    "df = importFiles(files, ms.SEMeasurement, fileparser)"
   ]
  },
  {
   "cell_type": "code",
   "execution_count": 6,
   "metadata": {},
   "outputs": [],
   "source": [
    "df = df.rename(columns =\n",
    "          {'Thickness # 1': 'INTR',\n",
    "           'Thickness # 2': 'SiO2',\n",
    "           'Thickness # 3': 'ZnO',\n",
    "           'Thickness # 4': 'AlOx'})"
   ]
  },
  {
   "cell_type": "code",
   "execution_count": 7,
   "metadata": {},
   "outputs": [],
   "source": [
    "df = df[['etched','time','ZnO','AlOx','Roughness']]"
   ]
  },
  {
   "cell_type": "code",
   "execution_count": 8,
   "metadata": {},
   "outputs": [
    {
     "data": {
      "text/html": [
       "<div>\n",
       "<style scoped>\n",
       "    .dataframe tbody tr th:only-of-type {\n",
       "        vertical-align: middle;\n",
       "    }\n",
       "\n",
       "    .dataframe tbody tr th {\n",
       "        vertical-align: top;\n",
       "    }\n",
       "\n",
       "    .dataframe thead th {\n",
       "        text-align: right;\n",
       "    }\n",
       "</style>\n",
       "<table border=\"1\" class=\"dataframe\">\n",
       "  <thead>\n",
       "    <tr style=\"text-align: right;\">\n",
       "      <th></th>\n",
       "      <th>etched</th>\n",
       "      <th>time</th>\n",
       "      <th>ZnO</th>\n",
       "      <th>AlOx</th>\n",
       "      <th>Roughness</th>\n",
       "      <th>time_s</th>\n",
       "    </tr>\n",
       "  </thead>\n",
       "  <tbody>\n",
       "    <tr>\n",
       "      <th>0</th>\n",
       "      <td>before</td>\n",
       "      <td>30S</td>\n",
       "      <td>883.76</td>\n",
       "      <td>334.69</td>\n",
       "      <td>151.19</td>\n",
       "      <td>30</td>\n",
       "    </tr>\n",
       "    <tr>\n",
       "      <th>1</th>\n",
       "      <td>after</td>\n",
       "      <td>30S</td>\n",
       "      <td>890.83</td>\n",
       "      <td>202.96</td>\n",
       "      <td>70.21</td>\n",
       "      <td>30</td>\n",
       "    </tr>\n",
       "    <tr>\n",
       "      <th>2</th>\n",
       "      <td>before</td>\n",
       "      <td>1M</td>\n",
       "      <td>899.18</td>\n",
       "      <td>322.02</td>\n",
       "      <td>143.84</td>\n",
       "      <td>60</td>\n",
       "    </tr>\n",
       "    <tr>\n",
       "      <th>3</th>\n",
       "      <td>after</td>\n",
       "      <td>1M</td>\n",
       "      <td>898.47</td>\n",
       "      <td>96.45</td>\n",
       "      <td>0.00</td>\n",
       "      <td>60</td>\n",
       "    </tr>\n",
       "    <tr>\n",
       "      <th>4</th>\n",
       "      <td>before</td>\n",
       "      <td>2M</td>\n",
       "      <td>893.33</td>\n",
       "      <td>309.13</td>\n",
       "      <td>151.46</td>\n",
       "      <td>120</td>\n",
       "    </tr>\n",
       "    <tr>\n",
       "      <th>5</th>\n",
       "      <td>after</td>\n",
       "      <td>2M</td>\n",
       "      <td>896.64</td>\n",
       "      <td>184.76</td>\n",
       "      <td>81.63</td>\n",
       "      <td>120</td>\n",
       "    </tr>\n",
       "    <tr>\n",
       "      <th>6</th>\n",
       "      <td>before</td>\n",
       "      <td>3M</td>\n",
       "      <td>885.76</td>\n",
       "      <td>339.04</td>\n",
       "      <td>160.44</td>\n",
       "      <td>180</td>\n",
       "    </tr>\n",
       "    <tr>\n",
       "      <th>7</th>\n",
       "      <td>after</td>\n",
       "      <td>3M</td>\n",
       "      <td>881.63</td>\n",
       "      <td>97.26</td>\n",
       "      <td>10.00</td>\n",
       "      <td>180</td>\n",
       "    </tr>\n",
       "    <tr>\n",
       "      <th>8</th>\n",
       "      <td>before</td>\n",
       "      <td>4M</td>\n",
       "      <td>901.73</td>\n",
       "      <td>318.44</td>\n",
       "      <td>144.56</td>\n",
       "      <td>240</td>\n",
       "    </tr>\n",
       "    <tr>\n",
       "      <th>9</th>\n",
       "      <td>after</td>\n",
       "      <td>4M</td>\n",
       "      <td>892.83</td>\n",
       "      <td>77.36</td>\n",
       "      <td>0.00</td>\n",
       "      <td>240</td>\n",
       "    </tr>\n",
       "    <tr>\n",
       "      <th>10</th>\n",
       "      <td>before</td>\n",
       "      <td>5M</td>\n",
       "      <td>884.30</td>\n",
       "      <td>331.22</td>\n",
       "      <td>149.62</td>\n",
       "      <td>300</td>\n",
       "    </tr>\n",
       "    <tr>\n",
       "      <th>11</th>\n",
       "      <td>after</td>\n",
       "      <td>5M</td>\n",
       "      <td>873.47</td>\n",
       "      <td>69.27</td>\n",
       "      <td>0.00</td>\n",
       "      <td>300</td>\n",
       "    </tr>\n",
       "  </tbody>\n",
       "</table>\n",
       "</div>"
      ],
      "text/plain": [
       "    etched time     ZnO    AlOx  Roughness  time_s\n",
       "0   before  30S  883.76  334.69     151.19      30\n",
       "1    after  30S  890.83  202.96      70.21      30\n",
       "2   before   1M  899.18  322.02     143.84      60\n",
       "3    after   1M  898.47   96.45       0.00      60\n",
       "4   before   2M  893.33  309.13     151.46     120\n",
       "5    after   2M  896.64  184.76      81.63     120\n",
       "6   before   3M  885.76  339.04     160.44     180\n",
       "7    after   3M  881.63   97.26      10.00     180\n",
       "8   before   4M  901.73  318.44     144.56     240\n",
       "9    after   4M  892.83   77.36       0.00     240\n",
       "10  before   5M  884.30  331.22     149.62     300\n",
       "11   after   5M  873.47   69.27       0.00     300"
      ]
     },
     "execution_count": 8,
     "metadata": {},
     "output_type": "execute_result"
    }
   ],
   "source": [
    "df['time_s'] = df.time.map({'30S': 30,\n",
    "                            '1M' : 60,\n",
    "                            '2M' : 120,\n",
    "                            '3M' : 180,\n",
    "                            '4M' : 240,\n",
    "                            '5M' : 300})\n",
    "df"
   ]
  },
  {
   "cell_type": "code",
   "execution_count": 9,
   "metadata": {},
   "outputs": [],
   "source": [
    "df['tot_height'] = df.ZnO + df.AlOx "
   ]
  },
  {
   "cell_type": "code",
   "execution_count": 10,
   "metadata": {},
   "outputs": [
    {
     "data": {
      "text/plain": [
       "<AxesSubplot:xlabel='time_s'>"
      ]
     },
     "execution_count": 10,
     "metadata": {},
     "output_type": "execute_result"
    },
    {
     "data": {
      "image/png": "[encoded data removed]",
      "text/plain": [
       "<Figure size 432x288 with 1 Axes>"
      ]
     },
     "metadata": {
      "needs_background": "light"
     },
     "output_type": "display_data"
    }
   ],
   "source": [
    "df.loc[df.etched == 'after'].plot(x='time_s',y='AlOx')"
   ]
  },
  {
   "cell_type": "code",
   "execution_count": 24,
   "metadata": {},
   "outputs": [
    {
     "data": {
      "text/plain": [
       "Text(0.5, 1.0, 'Before etching')"
      ]
     },
     "execution_count": 24,
     "metadata": {},
     "output_type": "execute_result"
    },
    {
     "data": {
      "image/png": "[encoded data removed]",
      "text/plain": [
       "<Figure size 432x288 with 1 Axes>"
      ]
     },
     "metadata": {
      "needs_background": "light"
     },
     "output_type": "display_data"
    }
   ],
   "source": [
    "data = df.loc[df.etched == 'before']\n",
    "plt.stackplot(data.time_s, data.ZnO, data.AlOx, labels=['ZnO','AlOx'])\n",
    "plt.errorbar(data.time_s, data.tot_height, yerr=data.Roughness, fmt='b+', label='roughness')\n",
    "plt.legend()\n",
    "plt.xlabel('Etching time [s]')\n",
    "plt.ylabel('Thickness [$\\AA$]')\n",
    "plt.title('Before etching')"
   ]
  },
  {
   "cell_type": "code",
   "execution_count": 25,
   "metadata": {},
   "outputs": [
    {
     "data": {
      "text/plain": [
       "Text(0.5, 1.0, 'After etching')"
      ]
     },
     "execution_count": 25,
     "metadata": {},
     "output_type": "execute_result"
    },
    {
     "data": {
      "image/png": "[encoded data removed]",
      "text/plain": [
       "<Figure size 432x288 with 1 Axes>"
      ]
     },
     "metadata": {
      "needs_background": "light"
     },
     "output_type": "display_data"
    }
   ],
   "source": [
    "data = df.loc[df.etched == 'after']\n",
    "plt.stackplot(data.time_s, data.ZnO, data.AlOx, labels=['ZnO','AlOx'])\n",
    "plt.errorbar(data.time_s, data.tot_height, yerr=data.Roughness, fmt='b+', label='roughness')\n",
    "plt.legend()\n",
    "plt.xlabel('Etching time [s]')\n",
    "plt.ylabel('Thickness [$\\AA$]')\n",
    "plt.title('After etching')"
   ]
  },
  {
   "cell_type": "code",
   "execution_count": 47,
   "metadata": {},
   "outputs": [
    {
     "data": {
      "text/plain": [
       "<AxesSubplot:>"
      ]
     },
     "execution_count": 47,
     "metadata": {},
     "output_type": "execute_result"
    },
    {
     "data": {
      "image/png": "[encoded data removed]",
      "text/plain": [
       "<Figure size 432x288 with 1 Axes>"
      ]
     },
     "metadata": {
      "needs_background": "light"
     },
     "output_type": "display_data"
    }
   ],
   "source": [
    "idf = (df\n",
    "       .pivot(index = 'time_s', values = ['AlOx', 'ZnO'], columns = 'etched')\n",
    "       .reset_index()\n",
    "      )\n",
    "dA = idf.AlOx.before - idf.AlOx.after\n",
    "dZ = idf.ZnO.before  - idf.ZnO.after\n",
    "EPC = dA/idf.time_s\n",
    "#dA.plot()\n",
    "#dZ.plot()\n",
    "EPC.plot()"
   ]
  },
  {
   "cell_type": "code",
   "execution_count": 41,
   "metadata": {},
   "outputs": [
    {
     "data": {
      "image/png": "[encoded data removed]",
      "text/plain": [
       "<Figure size 432x288 with 2 Axes>"
      ]
     },
     "metadata": {
      "needs_background": "light"
     },
     "output_type": "display_data"
    }
   ],
   "source": [
    "fig, (ax_before, ax_after) = plt.subplots(1, 2, sharey = True)\n",
    "\n",
    "data = df.loc[df.etched == 'before']\n",
    "ax_before.stackplot(data.time_s, data.ZnO, data.AlOx, labels=['ZnO','AlOx'])\n",
    "ax_before.errorbar(data.time_s, data.tot_height, yerr=data.Roughness, fmt='b+', label='roughness')\n",
    "ax_before.legend()\n",
    "ax_before.set_xlabel('Etching time [s]')\n",
    "ax_before.set_ylabel('Thickness [$\\AA$]')\n",
    "ax_before.set_title('Before etching')\n",
    "\n",
    "data = df.loc[df.etched == 'after']\n",
    "ax_after.stackplot(data.time_s, data.ZnO, data.AlOx, labels=['ZnO','AlOx'])\n",
    "ax_after.errorbar(data.time_s, data.tot_height, yerr=data.Roughness, fmt='b+', label='roughness')\n",
    "\n",
    "ax_after.set_xlabel('Etching time [s]')\n",
    "ax_after.set_title('After etching')\n",
    "\n",
    "fig.suptitle('Influence of etching process on layer thicknesses')\n",
    "\n",
    "imagefolder = '../../images/'\n",
    "fig.savefig(imagefolder + 'etching_thicknesses.png', dpi = 300)"
   ]
  },
  {
   "cell_type": "code",
   "execution_count": null,
   "metadata": {},
   "outputs": [],
   "source": []
  }
 ],
 "metadata": {
  "kernelspec": {
   "display_name": "Python 3 (ipykernel)",
   "language": "python",
   "name": "python3"
  },
  "language_info": {
   "codemirror_mode": {
    "name": "ipython",
    "version": 3
   },
   "file_extension": ".py",
   "mimetype": "text/x-python",
   "name": "python",
   "nbconvert_exporter": "python",
   "pygments_lexer": "ipython3",
   "version": "3.8.10"
  }
 },
 "nbformat": 4,
 "nbformat_minor": 4
}

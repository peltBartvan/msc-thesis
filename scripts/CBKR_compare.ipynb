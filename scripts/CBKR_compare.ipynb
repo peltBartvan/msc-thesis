{
 "cells": [
  {
   "cell_type": "code",
   "execution_count": 1,
   "id": "8ae4927f-5d04-4234-8084-1f9fadde080e",
   "metadata": {},
   "outputs": [],
   "source": [
    "import pandas as pd"
   ]
  },
  {
   "cell_type": "code",
   "execution_count": 2,
   "id": "534e66e7-0a05-421f-95fd-809be56be5ac",
   "metadata": {},
   "outputs": [],
   "source": [
    "datafile = \"../data/rho_c/CBKR_comparison.xlsx\""
   ]
  },
  {
   "cell_type": "code",
   "execution_count": 3,
   "id": "e0d67eb8-0dce-4884-b27a-671753299a8b",
   "metadata": {},
   "outputs": [
    {
     "name": "stdout",
     "output_type": "stream",
     "text": [
      "   type           Sample     l     w  Area         R        rho  piece  \\\n",
      "0  CBKR  pSi_r48_400C_Ag  1.05  1.00  1.05  0.101330  106.39650      1   \n",
      "1  CBKR  pSi_r48_400C_Ag  1.05  1.00  1.05  0.103000  108.15000      1   \n",
      "2  CBKR  pSi_r48_400C_Ag  0.40  0.65  0.26  0.273457   71.09882      2   \n",
      "3  CBKR  pSi_r48_400C_Ag  0.40  0.65  0.26  0.273247   71.04422      2   \n",
      "4  CBKR  pSi_r48_400C_Ag  0.40  0.65  0.26  0.291561   75.80586      2   \n",
      "\n",
      "       comment  \n",
      "0          NaN  \n",
      "1  anneal 200C  \n",
      "2          NaN  \n",
      "3          NaN  \n",
      "4  anneal 200C  \n"
     ]
    }
   ],
   "source": [
    "odf = pd.read_excel(datafile)\n",
    "print(odf.head())"
   ]
  },
  {
   "cell_type": "code",
   "execution_count": null,
   "id": "d9185ac7-a53d-4a9c-97a7-03918a501f87",
   "metadata": {},
   "outputs": [],
   "source": []
  }
 ],
 "metadata": {
  "kernelspec": {
   "display_name": "Python 3 (ipykernel)",
   "language": "python",
   "name": "python3"
  },
  "language_info": {
   "codemirror_mode": {
    "name": "ipython",
    "version": 3
   },
   "file_extension": ".py",
   "mimetype": "text/x-python",
   "name": "python",
   "nbconvert_exporter": "python",
   "pygments_lexer": "ipython3",
   "version": "3.8.10"
  }
 },
 "nbformat": 4,
 "nbformat_minor": 5
}

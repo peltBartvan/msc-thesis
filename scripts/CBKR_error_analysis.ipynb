{
 "cells": [
  {
   "cell_type": "code",
   "execution_count": 1,
   "id": "e4902876-7e43-4ea5-9354-0a415139c9d3",
   "metadata": {},
   "outputs": [],
   "source": [
    "import numpy as np\n",
    "from matplotlib import pyplot as plt"
   ]
  },
  {
   "cell_type": "code",
   "execution_count": 2,
   "id": "a3589a6d-b7e1-46b9-b979-3eefd1422507",
   "metadata": {},
   "outputs": [],
   "source": [
    "def errorTerm(dx = 0.1, # fractional misalignment in x direction delta/Wx\n",
    "              dy = None, # delta/Wy default: same as dy\n",
    "              Dax = 0.1, # sample length/transfer length\n",
    "              Day = None, # sample width/transfer length, default: Dax\n",
    "             ):\n",
    "    if not dy:\n",
    "        dy = dx\n",
    "    if not Day:\n",
    "        Day = Dax\n",
    "    res = 4/3\n",
    "    res *= dx*dy*Dax*Day\n",
    "    res *= 1 + 0.5*dx/(1 - dx)\n",
    "    return res\n",
    "    "
   ]
  },
  {
   "cell_type": "code",
   "execution_count": 8,
   "id": "fe25a842-423f-4bab-8811-122e9f319c57",
   "metadata": {},
   "outputs": [
    {
     "data": {
      "text/plain": [
       "1.8257418583505538"
      ]
     },
     "execution_count": 8,
     "metadata": {},
     "output_type": "execute_result"
    }
   ],
   "source": [
    "Rsh = 3e-3\n",
    "rho = 10e-3\n",
    "np.sqrt(rho/Rsh)"
   ]
  },
  {
   "cell_type": "code",
   "execution_count": 11,
   "id": "be753f60-3259-4860-a337-dc79a6952ebe",
   "metadata": {},
   "outputs": [
    {
     "data": {
      "text/plain": [
       "0.00242003367003367"
      ]
     },
     "execution_count": 11,
     "metadata": {},
     "output_type": "execute_result"
    }
   ],
   "source": [
    "errorTerm(dx = 1/12, Dax = 0.5)"
   ]
  },
  {
   "cell_type": "markdown",
   "id": "41774bf0-b2d6-4750-acbc-35428a124d59",
   "metadata": {},
   "source": [
    "https://ris.utwente.nl/ws/portalfiles/portal/5463631/stavitski.pdf ->\n",
    "$$A R_k = \\rho_c \\left(1 + \\frac{3}{4}\\frac{\\delta}{W_x}\\frac{\\delta}{W_y}\\frac{A}{L_t^2}\\left[1 + \\frac{\\delta}{2(W_x - \\delta)}\\right]\\right)$$\n",
    "Anders: \n",
    "$$A R_k = \\rho_c (1 + \\text{errorTerm(..)})$$\n"
   ]
  },
  {
   "cell_type": "code",
   "execution_count": null,
   "id": "5beb5676-2edf-488f-b62f-78941c338ed2",
   "metadata": {},
   "outputs": [],
   "source": []
  }
 ],
 "metadata": {
  "kernelspec": {
   "display_name": "Python 3 (ipykernel)",
   "language": "python",
   "name": "python3"
  },
  "language_info": {
   "codemirror_mode": {
    "name": "ipython",
    "version": 3
   },
   "file_extension": ".py",
   "mimetype": "text/x-python",
   "name": "python",
   "nbconvert_exporter": "python",
   "pygments_lexer": "ipython3",
   "version": "3.8.10"
  }
 },
 "nbformat": 4,
 "nbformat_minor": 5
}

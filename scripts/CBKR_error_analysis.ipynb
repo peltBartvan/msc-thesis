{
 "cells": [
  {
   "cell_type": "code",
   "execution_count": 1,
   "id": "e4902876-7e43-4ea5-9354-0a415139c9d3",
   "metadata": {},
   "outputs": [],
   "source": [
    "import numpy as np\n",
    "from matplotlib import pyplot as plt"
   ]
  },
  {
   "cell_type": "markdown",
   "id": "2ca2742c-64ee-4377-9057-f09698378481",
   "metadata": {},
   "source": [
    "https://ris.utwente.nl/ws/portalfiles/portal/5463631/stavitski.pdf ->\n",
    "$$\\rho_M \\equiv A R_k = \\rho_c \\left(1 + \\frac{3}{4}\\frac{\\delta}{W_x}\\frac{\\delta}{W_y}\\frac{A}{L_t^2}\\left[1 + \\frac{\\delta}{2(W_x - \\delta)}\\right]\\right)$$\n",
    "Interpreted as\n",
    "$$\\frac{\\rho_M}{\\rho_c} = 1 + \\text{errorTerm}\n",
    "\\bigg(\n",
    "\\underbrace{\\frac{\\delta}{W_x}}_\\text{dx},\n",
    "\\underbrace{\\frac{\\delta}{W_y}}_\\text{dy},\n",
    "\\underbrace{\\frac{l}{L_t}}_\\text{Dax},\n",
    "\\underbrace{\\frac{w}{L_t}}_\\text{Day}\n",
    "\\bigg),$$\n",
    "where $w$ is the sample width (from the view of the current source), and $l$ is the sample length.\n",
    "Dax and Day are their respective Damköhler numbers."
   ]
  },
  {
   "cell_type": "code",
   "execution_count": 24,
   "id": "a3589a6d-b7e1-46b9-b979-3eefd1422507",
   "metadata": {},
   "outputs": [],
   "source": [
    "def errorTerm(dx = 0.1 , dy = None,\n",
    "              Dax = 0.1, Day = None, \n",
    "             ):\n",
    "    # handle default symmetry\n",
    "    if not dy:\n",
    "        dy = dx\n",
    "    if not Day:\n",
    "        Day = Dax\n",
    "    res = 4/3\n",
    "    res *= dx*dy*Dax*Day\n",
    "    res *= 1 + 0.5*dx/(1 - dx)\n",
    "    return res\n",
    "    "
   ]
  },
  {
   "cell_type": "markdown",
   "id": "b91fa484-0013-4eba-9c14-6948422c30cc",
   "metadata": {},
   "source": [
    "Transfer length formula, default values refer to CBKR with Al foil, $R_\\square$ deliberately overestimated, $\\rho_c$ deliberately underestimated."
   ]
  },
  {
   "cell_type": "code",
   "execution_count": 22,
   "id": "fe25a842-423f-4bab-8811-122e9f319c57",
   "metadata": {},
   "outputs": [
    {
     "data": {
      "text/plain": [
       "1.8257418583505538"
      ]
     },
     "execution_count": 22,
     "metadata": {},
     "output_type": "execute_result"
    }
   ],
   "source": [
    "def transferLength(Rsq = 3e-3, rho_c = 10e-3):\n",
    "    \"\"\" simple transfer length calculation\n",
    "    default values: \n",
    "     - Rsq   [Ohm]      : measured sheet resistance of Al foil \n",
    "     - rho_c [Ohm cm^2] : understatement of specific resistance, no sample with rho_c < 10e-3 found\n",
    "    \"\"\"\n",
    "    return np.sqrt(rho_c/Rsq)\n",
    "\n",
    "transferLength()"
   ]
  },
  {
   "cell_type": "code",
   "execution_count": 11,
   "id": "be753f60-3259-4860-a337-dc79a6952ebe",
   "metadata": {},
   "outputs": [
    {
     "data": {
      "text/plain": [
       "0.00242003367003367"
      ]
     },
     "execution_count": 11,
     "metadata": {},
     "output_type": "execute_result"
    }
   ],
   "source": [
    "errorTerm(dx = 1/12, Dax = 0.5)"
   ]
  },
  {
   "cell_type": "markdown",
   "id": "7df4e782-d130-4d59-87ac-8645648fd522",
   "metadata": {},
   "source": [
    "CER errors\n",
    "From Loh et al\n",
    "$$R_M = \\frac{\\sqrt{R_\\square \\rho_c}}{w \\sinh \\sqrt{\\frac{R_\\square}{\\rho_c}} l}$$\n",
    "Or:\n",
    "$$\\frac{\\rho_M}{\\rho_c} = R_M w l = \\frac{\\text{Da}}{\\sinh \\text{Da}}$$\n",
    "Where\n",
    "$$ \\text{Da} \\equiv \\frac{l}{\\sqrt{\\frac{\\rho_c}{R_\\square}}}$$\n",
    "in this case\n",
    "$$\\rho_c = \\frac{\\rho_M}{\\text{correctionCER(Da)}}$$\n",
    "IMPORTANT: in this case $R_\\square$ is the effective sheet resistance along the fingers, this should include current flow through the copper electrodes!"
   ]
  },
  {
   "cell_type": "code",
   "execution_count": 28,
   "id": "13c141f7-2999-4fbc-98de-b8cda73c62aa",
   "metadata": {},
   "outputs": [
    {
     "data": {
      "text/plain": [
       "0.010449267232673254"
      ]
     },
     "execution_count": 28,
     "metadata": {},
     "output_type": "execute_result"
    }
   ],
   "source": [
    "def correctionCER(Da = 0.5):\n",
    "    return Da/np.sinh(Da)\n",
    "\n",
    "def relErrorCER(**kwargs):\n",
    "    # compute the relative error from the correction term\n",
    "    # kwargs should probably include Da\n",
    "    return (1/correctionCER(**kwargs)) - 1\n",
    "\n",
    "relErrorCER(Da = 0.25)"
   ]
  },
  {
   "cell_type": "code",
   "execution_count": null,
   "id": "7c5d99dd-e4c5-4441-8c8c-163c6b473549",
   "metadata": {},
   "outputs": [],
   "source": []
  }
 ],
 "metadata": {
  "kernelspec": {
   "display_name": "Python 3 (ipykernel)",
   "language": "python",
   "name": "python3"
  },
  "language_info": {
   "codemirror_mode": {
    "name": "ipython",
    "version": 3
   },
   "file_extension": ".py",
   "mimetype": "text/x-python",
   "name": "python",
   "nbconvert_exporter": "python",
   "pygments_lexer": "ipython3",
   "version": "3.8.10"
  }
 },
 "nbformat": 4,
 "nbformat_minor": 5
}

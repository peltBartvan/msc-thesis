{
 "cells": [
  {
   "cell_type": "code",
   "execution_count": 1,
   "id": "b26e913d-901b-4006-b541-5d693779a495",
   "metadata": {},
   "outputs": [],
   "source": [
    "import numpy as np\n",
    "import pandas as pd\n",
    "import seaborn as sns\n",
    "from matplotlib import pyplot as plt"
   ]
  },
  {
   "cell_type": "code",
   "execution_count": 2,
   "id": "764e223d-1599-4c6f-9a54-53b4c2db6a9a",
   "metadata": {},
   "outputs": [],
   "source": [
    "def IVcurve(Isc, I0):\n",
    "    def calc(V):\n",
    "        return Isc - I0*(np.exp(V)-1)\n",
    "    return calc"
   ]
  },
  {
   "cell_type": "code",
   "execution_count": 3,
   "id": "84a58d09-1af8-4e52-b484-6ad23d1906b4",
   "metadata": {},
   "outputs": [],
   "source": [
    "def Voc(Isc, I0):\n",
    "    return np.log(1+(Isc/I0))"
   ]
  },
  {
   "cell_type": "code",
   "execution_count": 15,
   "id": "27d47798-5442-4fba-8527-133922b0e167",
   "metadata": {},
   "outputs": [],
   "source": [
    "milli = 1e-3\n",
    "Isc = 44*milli # A/cm^2\n",
    "femto = 1e-15\n",
    "I0  = 20*femto # A/cm^2\n",
    "Vth = 26e-3 # 26 mV"
   ]
  },
  {
   "cell_type": "code",
   "execution_count": 16,
   "id": "e8969e86-c358-4cf1-aa71-f87fbd8a4530",
   "metadata": {},
   "outputs": [
    {
     "data": {
      "text/plain": [
       "0.7389064403836251"
      ]
     },
     "execution_count": 16,
     "metadata": {},
     "output_type": "execute_result"
    }
   ],
   "source": [
    "Voc(Isc, I0)*Vth"
   ]
  }
 ],
 "metadata": {
  "kernelspec": {
   "display_name": "Python 3 (ipykernel)",
   "language": "python",
   "name": "python3"
  },
  "language_info": {
   "codemirror_mode": {
    "name": "ipython",
    "version": 3
   },
   "file_extension": ".py",
   "mimetype": "text/x-python",
   "name": "python",
   "nbconvert_exporter": "python",
   "pygments_lexer": "ipython3",
   "version": "3.8.10"
  }
 },
 "nbformat": 4,
 "nbformat_minor": 5
}

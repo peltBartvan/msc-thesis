{
 "cells": [
  {
   "cell_type": "code",
   "execution_count": 7,
   "metadata": {},
   "outputs": [
    {
     "name": "stdout",
     "output_type": "stream",
     "text": [
      "0.6000000000000001 0.29999999999999993\n"
     ]
    }
   ],
   "source": [
    "# pad total dimensions:\n",
    "xTot, yTot = 15, 15 # mm\n",
    "# number of repeating elements\n",
    "N_elems = 10\n",
    "elem_width = xTot/N_elems\n",
    "# width fractions of A and B lines\n",
    "fill_A, fill_B = 0.4, 0.4\n",
    "fill_void = 1 - fill_A - fill_B\n",
    "# actual widths\n",
    "width_A = elem_width*fill_A\n",
    "width_void = elem_width*fill_void\n",
    "\n",
    "print(width_A, width_void)"
   ]
  },
  {
   "cell_type": "code",
   "execution_count": 11,
   "metadata": {},
   "outputs": [
    {
     "data": {
      "text/plain": [
       "0.9852216748768474"
      ]
     },
     "execution_count": 11,
     "metadata": {},
     "output_type": "execute_result"
    }
   ],
   "source": [
    "# finger resistivity\n",
    "R_finger =   1 # Ohm/m\n",
    "R_sq     = 0.1 # Ohm/sq\n",
    "R_eff = 1/((1/R_finger)+(elem_width*1e-3/R_sq)) # Ohm/m\n",
    "R_eff"
   ]
  },
  {
   "cell_type": "code",
   "execution_count": null,
   "metadata": {},
   "outputs": [],
   "source": []
  }
 ],
 "metadata": {
  "kernelspec": {
   "display_name": "Python 3",
   "language": "python",
   "name": "python3"
  },
  "language_info": {
   "codemirror_mode": {
    "name": "ipython",
    "version": 3
   },
   "file_extension": ".py",
   "mimetype": "text/x-python",
   "name": "python",
   "nbconvert_exporter": "python",
   "pygments_lexer": "ipython3",
   "version": "3.8.10"
  }
 },
 "nbformat": 4,
 "nbformat_minor": 4
}

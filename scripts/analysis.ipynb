{
 "cells": [
  {
   "cell_type": "code",
   "execution_count": 1,
   "metadata": {},
   "outputs": [
    {
     "name": "stdout",
     "output_type": "stream",
     "text": [
      "importing Jupyter notebook from hall_data.ipynb\n",
      "importing Jupyter notebook from SESnaps_data.ipynb\n",
      "importing Jupyter notebook from SE_batch_data.ipynb\n"
     ]
    }
   ],
   "source": [
    "import warnings\n",
    "warnings.simplefilter(action='ignore', category=FutureWarning)\n",
    "\n",
    "import import_ipynb\n",
    "import hall_data\n",
    "import SESnaps_data\n",
    "import SE_batch_data\n",
    "import numpy as np\n",
    "from astropy import units as u\n",
    "from astropy import constants as const"
   ]
  },
  {
   "cell_type": "code",
   "execution_count": 2,
   "metadata": {},
   "outputs": [],
   "source": [
    "hall = hall_data.get_df()\n",
    "se   = SESnaps_data.df"
   ]
  },
  {
   "cell_type": "code",
   "execution_count": 3,
   "metadata": {},
   "outputs": [],
   "source": [
    "idf = hall.merge(se, how='outer',\n",
    "               on = ['doping', 'capping', 'anneal'])"
   ]
  },
  {
   "cell_type": "code",
   "execution_count": 4,
   "metadata": {},
   "outputs": [],
   "source": [
    "my_units = {\n",
    "    'mu' : u.m**2/(u.V*u.s),\n",
    "    'm_star' : u.M_e,\n",
    "    'L_Debye': u.nm,\n",
    "    'omega' : u.V*const.e.si/const.hbar,\n",
    "    'N_e' : u.m**-3\n",
    "}"
   ]
  },
  {
   "cell_type": "code",
   "execution_count": 9,
   "metadata": {},
   "outputs": [],
   "source": [
    "LOGGING = True\n",
    "\n",
    "def show_units(df, prefix = ''):\n",
    "    for column in df.columns:\n",
    "        try:\n",
    "            print(prefix ,column, ' : ', df[column].values.unit.decompose())\n",
    "        except:\n",
    "            pass\n",
    "    return df\n",
    "\n",
    "LOGGING = True\n",
    "\n",
    "def logging_true(after = True, before = False):\n",
    "    def logger(fn):\n",
    "        def wrapper(df):\n",
    "            print(f'===== applying {fn.__name__} =====')\n",
    "            if before:\n",
    "                print(\">>> Before\")\n",
    "                show_units(df, prefix = \" - \")\n",
    "                print('')\n",
    "            try:    \n",
    "                return_df = fn(df)\n",
    "            except:\n",
    "                print('execution failed')\n",
    "                raise \n",
    "            if after:\n",
    "                print(\">>> After\")\n",
    "                show_units(return_df, prefix = \" - \")\n",
    "                print('')\n",
    "            return return_df\n",
    "        return wrapper\n",
    "    return logger\n",
    "    \n",
    "def logging_false(after = True, before = False):\n",
    "    def logger(fn):\n",
    "        def wrapped(df):\n",
    "            return fn(df)\n",
    "        return wrapped\n",
    "    return logger    \n",
    "    \n",
    "if LOGGING:\n",
    "    logging = logging_true\n",
    "else:\n",
    "    logging = logging_false\n",
    "    \n",
    "    \n",
    "    "
   ]
  },
  {
   "cell_type": "code",
   "execution_count": 10,
   "metadata": {},
   "outputs": [],
   "source": [
    "@logging()\n",
    "def start_pipeline(df):\n",
    "    return df.copy()\n",
    "\n",
    "@logging(before=True)\n",
    "def apply_units(df):\n",
    "    rdf = df.copy()\n",
    "    rdf['omega_t'] = rdf.B2.values*my_units['omega']\n",
    "    rdf['omega_p'] = rdf.A2.values*my_units['omega']\n",
    "    rdf['n'] = rdf.n.values*my_units['N_e']\n",
    "    return rdf\n"
   ]
  },
  {
   "cell_type": "code",
   "execution_count": 27,
   "metadata": {},
   "outputs": [
    {
     "name": "stdout",
     "output_type": "stream",
     "text": [
      "===== applying start_pipeline =====\n",
      ">>> After\n",
      "\n",
      "===== applying apply_units =====\n",
      ">>> Before\n",
      "\n",
      ">>> After\n",
      " -  n  :  1 / m3\n",
      " -  omega_t  :  1 / s\n",
      " -  omega_p  :  1 / s\n",
      "\n",
      "===== applying compute_optical_mobility =====\n",
      ">>> After\n",
      " -  n  :  1 / m3\n",
      " -  omega_t  :  1 / s\n",
      " -  omega_p  :  1 / s\n",
      " -  mu_opt  :  A s2 / kg\n",
      "\n",
      "===== applying compute_effective_mass =====\n",
      ">>> After\n",
      " -  n  :  1 / m3\n",
      " -  omega_t  :  1 / s\n",
      " -  omega_p  :  1 / s\n",
      " -  mu_opt  :  A s2 / kg\n",
      " -  m_star  :  kg\n",
      "\n",
      "===== applying compute_Debye_length =====\n",
      ">>> After\n",
      " -  n  :  1 / m3\n",
      " -  omega_t  :  1 / s\n",
      " -  omega_p  :  1 / s\n",
      " -  mu_opt  :  A s2 / kg\n",
      " -  m_star  :  kg\n",
      " -  L_Debye  :  m\n",
      "\n",
      "===== applying to_dimensionless =====\n",
      ">>> After\n",
      "\n"
     ]
    }
   ],
   "source": [
    "@logging()\n",
    "def compute_optical_mobility(df):\n",
    "    eps0 = const.eps0\n",
    "    e    = const.e.si\n",
    "    ret = eps0*(df.omega_p.values * df.omega_p.values)/(df.n.values*e*df.omega_t.values)\n",
    "    df['mu_opt'] = ret\n",
    "    return  df\n",
    "\n",
    "@logging()\n",
    "def compute_effective_mass(df):\n",
    "    mu_opt = df.mu_opt.values\n",
    "    e = const.e.si\n",
    "    df['m_star'] = e/(df.omega_t.values*df.mu_opt.values)\n",
    "    return df\n",
    "\n",
    "@logging()\n",
    "def compute_Debye_length(df, T = 293*u.K):\n",
    "    eps0 = const.eps0\n",
    "    kB   = const.k_B\n",
    "    q = const.e.si\n",
    "    N = df.n.values \n",
    "    LD = np.sqrt(eps0*kB*T/(q*q*N))\n",
    "    df['L_Debye'] = LD\n",
    "    return df\n",
    "\n",
    "@logging()\n",
    "def to_dimensionless(df):\n",
    "    col_units = {\n",
    "        'omega_t' : 'omega',\n",
    "        'omega_p' : 'omega',\n",
    "        'n' : 'N_e',\n",
    "        'L_Debye' : 'L_Debye',\n",
    "        'm_star'  : 'm_star',\n",
    "        'mu_opt' : 'mu',\n",
    "    }\n",
    "    for col, unit in col_units.items():\n",
    "        df[col] = df[col].values.to_value(my_units[unit])\n",
    "    return df\n",
    "        \n",
    "\n",
    "df = (idf\n",
    "      .pipe(start_pipeline)\n",
    "      .pipe(apply_units)\n",
    "      .pipe(compute_optical_mobility)\n",
    "      .pipe(compute_effective_mass)\n",
    "      .pipe(compute_Debye_length)\n",
    "      .pipe(to_dimensionless)\n",
    "     )\n",
    "    "
   ]
  },
  {
   "cell_type": "code",
   "execution_count": 28,
   "metadata": {},
   "outputs": [
    {
     "data": {
      "application/javascript": [
       "\n",
       "        if (window._pyforest_update_imports_cell) { window._pyforest_update_imports_cell('import matplotlib.pyplot as plt'); }\n",
       "    "
      ],
      "text/plain": [
       "<IPython.core.display.Javascript object>"
      ]
     },
     "metadata": {},
     "output_type": "display_data"
    },
    {
     "data": {
      "image/png": "[encoded data removed]",
      "text/plain": [
       "<Figure size 432x288 with 1 Axes>"
      ]
     },
     "metadata": {
      "needs_background": "light"
     },
     "output_type": "display_data"
    }
   ],
   "source": [
    "if __name__ == '__main__':\n",
    "   # from matplotlib import pyplot as plt\n",
    "    import seaborn as sns\n",
    "    fig, ax = plt.subplots()\n",
    "    sns.lineplot(\n",
    "        x = 'anneal',\n",
    "        y = 'mu_H',\n",
    "        hue = 'doping',\n",
    "        #style = 'anneal',\n",
    "        data = df[df.capping == 'cap'],\n",
    "        )\n",
    "    sns.lineplot(\n",
    "        x = 'anneal',\n",
    "        y = 'mu_opt',\n",
    "        hue = 'doping',\n",
    "        #hue = 'anneal',\n",
    "        data = df[df.capping == 'cap'],\n",
    "    )"
   ]
  },
  {
   "cell_type": "code",
   "execution_count": 29,
   "metadata": {},
   "outputs": [
    {
     "data": {
      "image/png": "[encoded data removed]",
      "text/plain": [
       "<Figure size 360x360 with 1 Axes>"
      ]
     },
     "metadata": {
      "needs_background": "light"
     },
     "output_type": "display_data"
    }
   ],
   "source": [
    "if __name__ == '__main__':\n",
    "    import seaborn as sns\n",
    "    sns.catplot(\n",
    "        x = 'doping',\n",
    "        y = 'L_Debye',\n",
    "        data = df\n",
    "    )"
   ]
  },
  {
   "cell_type": "code",
   "execution_count": null,
   "metadata": {},
   "outputs": [],
   "source": []
  }
 ],
 "metadata": {
  "kernelspec": {
   "display_name": "Python 3 (ipykernel)",
   "language": "python",
   "name": "python3"
  },
  "language_info": {
   "codemirror_mode": {
    "name": "ipython",
    "version": 3
   },
   "file_extension": ".py",
   "mimetype": "text/x-python",
   "name": "python",
   "nbconvert_exporter": "python",
   "pygments_lexer": "ipython3",
   "version": "3.8.10"
  }
 },
 "nbformat": 4,
 "nbformat_minor": 4
}

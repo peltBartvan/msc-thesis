{
 "cells": [
  {
   "cell_type": "markdown",
   "metadata": {},
   "source": [
    "# Imports"
   ]
  },
  {
   "cell_type": "code",
   "execution_count": 13,
   "metadata": {},
   "outputs": [],
   "source": [
    "from PMP_importlib import measurement as ms\n",
    "import numpy as np\n",
    "import pandas as pd\n",
    "from pandas.api.types import CategoricalDtype\n",
    "from glob import glob"
   ]
  },
  {
   "cell_type": "markdown",
   "metadata": {},
   "source": [
    "# Gather Hall data\n",
    "\n",
    "First set the independent variables as categorical values."
   ]
  },
  {
   "cell_type": "code",
   "execution_count": 2,
   "metadata": {},
   "outputs": [],
   "source": [
    "datafolder = \"../data/Hall_anneal/\""
   ]
  },
  {
   "cell_type": "code",
   "execution_count": 3,
   "metadata": {},
   "outputs": [],
   "source": [
    "doping = CategoricalDtype(\n",
    "    ['int', 'r96', 'r48', 'r24', 'r16'],\n",
    "    ordered = True\n",
    ")\n",
    "\n",
    "anneal = CategoricalDtype(\n",
    "    ['asdep'] + [f'{T}C' for T in range(300, 750, 50)],\n",
    "    ordered = True,)\n",
    "\n",
    "capping = CategoricalDtype(\n",
    "    ['cap', 'nocap'],\n",
    "    ordered = True,\n",
    ")"
   ]
  },
  {
   "cell_type": "markdown",
   "metadata": {},
   "source": [
    "Get all possible combinations"
   ]
  },
  {
   "cell_type": "code",
   "execution_count": 3,
   "metadata": {},
   "outputs": [],
   "source": [
    "index = pd.MultiIndex.from_product(\n",
    "    [doping.categories,\n",
    "     capping.categories,\n",
    "     anneal.categories],\n",
    "    names = ['doping', 'capping', 'anneal'])\n",
    "params = pd.DataFrame(index = index).reset_index()"
   ]
  },
  {
   "cell_type": "markdown",
   "metadata": {},
   "source": [
    "For each combination, was I able to do a measurement?\n",
    "\n",
    "If not, filter out.\n"
   ]
  },
  {
   "cell_type": "code",
   "execution_count": 4,
   "metadata": {},
   "outputs": [],
   "source": [
    "def filter_true(f):\n",
    "    # use this for pipelining with a filtering function\n",
    "    def wrapped(df):\n",
    "        return df[df.apply(f, axis = 1)]\n",
    "    return wrapped\n",
    "\n",
    "@filter_true\n",
    "def measurement_valid(x):\n",
    "    # I was able to measure all capped samples\n",
    "    if x.capping == 'cap':\n",
    "        return True\n",
    "    # handle uncapped samples\n",
    "    max_temp_nocap = {\n",
    "        'int' : '300C',\n",
    "        'r16' : '450C',\n",
    "        'r24' : '400C',\n",
    "        'r48' : '400C',\n",
    "        'r96' : '350C',\n",
    "    }\n",
    "    T_max = max_temp_nocap[x.doping]\n",
    "    # valid anneals include asdep up to maximal annealing temperature\n",
    "    valid_anneal = {T for T in anneal.categories if T == 'asdep' or T <= T_max}\n",
    "    return x.anneal in valid_anneal"
   ]
  },
  {
   "cell_type": "markdown",
   "metadata": {},
   "source": [
    "For these valid measurements, get their filenames."
   ]
  },
  {
   "cell_type": "code",
   "execution_count": 5,
   "metadata": {},
   "outputs": [],
   "source": [
    "def set_column(colname):\n",
    "    # again, only used for pipelining\n",
    "    def decorator(f):\n",
    "        def wrapped(df):\n",
    "            new_df = df.copy()\n",
    "            new_df[colname] = new_df.apply(f, axis = 1)\n",
    "            return new_df\n",
    "        return wrapped\n",
    "    return decorator\n",
    "\n",
    "@set_column('filename')\n",
    "def create_filename(x):\n",
    "    # derive relevant filename from parameters\n",
    "    \n",
    "    # special case : int, cap should be version 2\n",
    "    if {x.doping, x.capping} == {'int', 'cap'}:\n",
    "        return '_'.join([x.doping, x.capping, x.anneal, 'no2']) + '.xlsx'\n",
    "    \n",
    "    # otherwise default\n",
    "    return '_'.join([x.doping, x.capping, x.anneal]) + '.xlsx'"
   ]
  },
  {
   "cell_type": "code",
   "execution_count": 6,
   "metadata": {},
   "outputs": [],
   "source": [
    "long_names = {\n",
    "        'Hall mobility'               : 'mu_H'  , # m^2 V s-1\n",
    "        'Carrier concentration'       : 'n'     , # m^-3\n",
    "        'Sheet carrier concentration' : 'n_sh'  , # m^-2\n",
    "        'Hall coefficient'            : 'R_H'   , # m^3 C^-1\n",
    "        'Sheet Hall coefficient'      : 'R_H_sh', # m^2 C^-1\n",
    "        'Resistivity'                 : 'rho'   , # Ohm m\n",
    "        'Sheet resistivity'           : 'rho_sh', # Ohm sq\n",
    "        'Hall voltage'                : 'V_H'   , # V\n",
    "        'Thickness'                   : 'd'     , # nm\n",
    "    }\n",
    "\n",
    "units = {\n",
    "        'mu_H'  : 'm^2 V s-1',\n",
    "        'n'     : 'm^-3',\n",
    "        'n_sh'  : 'm^-2',\n",
    "        'R_H'   : 'm^3 C^-1',\n",
    "        'R_H_sh': 'm^2 C^-1',\n",
    "        'rho'   : 'Ohm m',\n",
    "        'rho_sh': 'Ohm sq',\n",
    "        'V_H'   : 'V',\n",
    "        'd'     : 'nm',\n",
    "    }\n",
    "\n",
    "\n",
    "def get_data(x):\n",
    "    filepath = datafolder + x.filename\n",
    "    data = ms.HallMeasurement(filepath).asDict()\n",
    "    data = pd.Series(data).rename(long_names)\n",
    "    return x.append(pd.Series(data))"
   ]
  },
  {
   "cell_type": "code",
   "execution_count": 22,
   "metadata": {},
   "outputs": [],
   "source": [
    "import pickle\n",
    "import os\n",
    "def get_df(use_cache = True, cache = 'halldata'):\n",
    "    if use_cache and os.path.exists(cache):\n",
    "        df = pd.read_pickle(cache)\n",
    "    else:\n",
    "        df = params\\\n",
    "        .pipe(measurement_valid)\\\n",
    "        .pipe(create_filename)\\\n",
    "        .apply(get_data, axis = 1)\\\n",
    "        .astype('float', errors = 'ignore')\n",
    "        df.to_pickle(cache)\n",
    "    return df\n",
    "        \n",
    "    "
   ]
  },
  {
   "cell_type": "code",
   "execution_count": 24,
   "metadata": {},
   "outputs": [],
   "source": [
    "if __name__ == \"__main__\":\n",
    "    df = get_df(use_cache = True)\n",
    "    import seaborn as sns\n",
    "\n",
    "    sns.set_theme(\n",
    "        context = 'paper',\n",
    "        style = 'whitegrid',\n",
    "        )\n",
    "    plot_val = 'R_H'\n",
    "    p = sns.lineplot(x = 'anneal', y = plot_val,\n",
    "                    style = 'capping', hue = 'doping',\n",
    "                    markers = True,\n",
    "                    data = df)\n",
    "    p.set(yscale = 'log')\n",
    "    p.set(xlabel = 'Anneal temperature')\n",
    "    p.set(ylabel = 'Hall resistivity $\\\\frac{m^3}{C}$')"
   ]
  },
  {
   "cell_type": "code",
   "execution_count": null,
   "metadata": {},
   "outputs": [],
   "source": []
  }
 ],
 "metadata": {
  "kernelspec": {
   "display_name": "Python 3",
   "language": "python",
   "name": "python3"
  },
  "language_info": {
   "codemirror_mode": {
    "name": "ipython",
    "version": 3
   },
   "file_extension": ".py",
   "mimetype": "text/x-python",
   "name": "python",
   "nbconvert_exporter": "python",
   "pygments_lexer": "ipython3",
   "version": "3.8.10"
  }
 },
 "nbformat": 4,
 "nbformat_minor": 4
}

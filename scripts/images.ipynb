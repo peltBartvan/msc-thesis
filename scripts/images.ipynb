{
 "cells": [
  {
   "cell_type": "markdown",
   "metadata": {},
   "source": [
    "# Style setup"
   ]
  },
  {
   "cell_type": "code",
   "execution_count": 1,
   "metadata": {},
   "outputs": [],
   "source": [
    "import warnings\n",
    "warnings.simplefilter(action='ignore', category=FutureWarning)\n",
    "\n",
    "import seaborn as sns\n",
    "sns.set_theme(context='paper',\n",
    "             style = 'whitegrid')\n",
    "\n",
    "from matplotlib import pyplot as plt\n",
    "import import_ipynb"
   ]
  },
  {
   "cell_type": "markdown",
   "metadata": {},
   "source": [
    "# Locations setup"
   ]
  },
  {
   "cell_type": "code",
   "execution_count": 2,
   "metadata": {},
   "outputs": [],
   "source": [
    "imagefolder = '../images/'"
   ]
  },
  {
   "cell_type": "markdown",
   "metadata": {},
   "source": [
    "# Gather all the data!\n",
    "## Starting with Hall"
   ]
  },
  {
   "cell_type": "code",
   "execution_count": 3,
   "metadata": {},
   "outputs": [
    {
     "name": "stdout",
     "output_type": "stream",
     "text": [
      "importing Jupyter notebook from hall_data.ipynb\n"
     ]
    }
   ],
   "source": [
    "import import_ipynb\n",
    "import hall_data"
   ]
  },
  {
   "cell_type": "code",
   "execution_count": 4,
   "metadata": {},
   "outputs": [
    {
     "data": {
      "text/plain": [
       "Index(['doping', 'capping', 'anneal', 'filename', 'mu_H', 'Carrier type', 'n',\n",
       "       'n_sh', 'R_H', 'R_H_sh', 'rho', 'rho_sh', 'V_H', 'd'],\n",
       "      dtype='object')"
      ]
     },
     "execution_count": 4,
     "metadata": {},
     "output_type": "execute_result"
    }
   ],
   "source": [
    "hall_df = hall_data.get_df()\n",
    "hall_df.columns"
   ]
  },
  {
   "cell_type": "markdown",
   "metadata": {},
   "source": [
    "## and $\\rho_c$"
   ]
  },
  {
   "cell_type": "code",
   "execution_count": 5,
   "metadata": {},
   "outputs": [
    {
     "name": "stdout",
     "output_type": "stream",
     "text": [
      "importing Jupyter notebook from rho_c_data.ipynb\n"
     ]
    }
   ],
   "source": [
    "from rho_c_data import full_df as rho_df"
   ]
  },
  {
   "cell_type": "markdown",
   "metadata": {},
   "source": [
    "## and SE"
   ]
  },
  {
   "cell_type": "code",
   "execution_count": 6,
   "metadata": {},
   "outputs": [
    {
     "name": "stdout",
     "output_type": "stream",
     "text": [
      "importing Jupyter notebook from SE_batch_data.ipynb\n"
     ]
    }
   ],
   "source": [
    "from SE_batch_data import param_df, optics_df"
   ]
  },
  {
   "cell_type": "code",
   "execution_count": 8,
   "metadata": {},
   "outputs": [],
   "source": [
    "from analysis import df"
   ]
  },
  {
   "cell_type": "markdown",
   "metadata": {},
   "source": [
    "## Merge Hall and SE, these should behave similarly"
   ]
  },
  {
   "cell_type": "raw",
   "metadata": {},
   "source": [
    "import pint\n",
    "ureg = pint.UnitRegistry()\n",
    "df = param_df.merge(hall_df, on = ['doping','anneal', 'capping'])\n",
    "#df['mu_opt'] = \n",
    "df['mu_opt'] = df.A2**2/(df.n*df.B2)"
   ]
  },
  {
   "cell_type": "markdown",
   "metadata": {},
   "source": [
    "# Time to make some plots\n",
    "## Mobility"
   ]
  },
  {
   "cell_type": "code",
   "execution_count": null,
   "metadata": {},
   "outputs": [],
   "source": [
    "p = sns.lineplot(x = 'anneal',\n",
    "                y = 'mu_H',\n",
    "                style = 'capping',\n",
    "                hue   = 'doping',\n",
    "                data = df,\n",
    "                )\n",
    "\n",
    "#p.set(yscale = 'log')\n",
    "\n",
    "p.get_figure().savefig(imagefolder + 'mu_H_vs_anneal.png')"
   ]
  },
  {
   "cell_type": "code",
   "execution_count": null,
   "metadata": {},
   "outputs": [],
   "source": [
    "p = sns.lineplot(x = 'anneal',\n",
    "                y = 'mu_opt',\n",
    "                style = 'capping',\n",
    "                hue   = 'doping',\n",
    "                data = df,\n",
    "                )\n",
    "\n",
    "#p.set(yscale = 'log')\n",
    "plt.show()\n",
    "\n",
    "p.get_figure().savefig(imagefolder + 'mu_opt_vs_anneal.png')"
   ]
  },
  {
   "cell_type": "code",
   "execution_count": null,
   "metadata": {},
   "outputs": [],
   "source": [
    "\n"
   ]
  },
  {
   "cell_type": "markdown",
   "metadata": {},
   "source": [
    "## Carrier density"
   ]
  },
  {
   "cell_type": "code",
   "execution_count": null,
   "metadata": {},
   "outputs": [],
   "source": [
    "p = sns.lineplot(x = 'anneal',\n",
    "                y = 'n_sh',\n",
    "                style = 'capping',\n",
    "                hue   = 'doping',\n",
    "                data = hall_df,\n",
    "                )\n",
    "    \n",
    "#p.set(yscale = 'log')\n",
    "plt.show()\n",
    "p.get_figure().savefig(imagefolder + 'n_sh_vs_anneal.png')"
   ]
  },
  {
   "cell_type": "markdown",
   "metadata": {},
   "source": [
    "## Resistivity"
   ]
  },
  {
   "cell_type": "code",
   "execution_count": null,
   "metadata": {},
   "outputs": [],
   "source": [
    "p = sns.lineplot(x = 'anneal',\n",
    "                y = 'rho',\n",
    "                style = 'capping',\n",
    "                hue   = 'doping',\n",
    "                data = hall_df,\n",
    "                )\n",
    "    \n",
    "p.set(\n",
    "    yscale = 'log',\n",
    ")\n",
    "\n",
    "p.get_figure().savefig(imagefolder + 'rho_sh_vs_anneal.png')\n",
    "plt.show()"
   ]
  },
  {
   "cell_type": "markdown",
   "metadata": {},
   "source": [
    "## Looking at trends in data!"
   ]
  },
  {
   "cell_type": "code",
   "execution_count": null,
   "metadata": {},
   "outputs": [],
   "source": [
    "g = sns.PairGrid(df[['n_sh', 'A2', 'B2', 'mu_H','doping', 'capping']], hue = 'capping')\n",
    "g.map_offdiag(sns.scatterplot)\n",
    "g.map_diag(sns.histplot)\n",
    "g.add_legend()"
   ]
  },
  {
   "cell_type": "code",
   "execution_count": null,
   "metadata": {},
   "outputs": [],
   "source": [
    "g = sns.PairGrid(df[['n_sh', 'A2', 'B2', 'mu_H','doping', 'capping', 'anneal', 'mu_opt']], hue = 'capping')\n",
    "g.map_offdiag(sns.scatterplot)\n",
    "g.map_diag(sns.histplot)\n",
    "g.add_legend()"
   ]
  },
  {
   "cell_type": "code",
   "execution_count": null,
   "metadata": {},
   "outputs": [],
   "source": [
    "sns.lineplot(x = 'anneal', \n",
    "                y = 'mu_opt',\n",
    "                hue = 'doping',\n",
    "                data = df[df.capping == 'cap'])"
   ]
  },
  {
   "cell_type": "markdown",
   "metadata": {},
   "source": [
    "Some clear clusters can be seen when coloring by doping, kind of neat.\n",
    "Note that A2 (scattering frequency) and n_sh are nicely correlated (parabolic, as expected).\n",
    "\n",
    "## Contact resistivities\n",
    "I'll need to figure out how to use both substrate and anneal temperature as categories, should be possible.\n",
    "For now: only separated by AZO doping."
   ]
  },
  {
   "cell_type": "code",
   "execution_count": null,
   "metadata": {},
   "outputs": [],
   "source": [
    "p = sns.catplot(x = 'substrate', y = 'rho_c', hue = 'doping', kind = 'bar', data = rho_df)\n",
    "p.set(yscale = 'log')\n"
   ]
  },
  {
   "cell_type": "markdown",
   "metadata": {},
   "source": [
    "# Effects of capping"
   ]
  },
  {
   "cell_type": "code",
   "execution_count": null,
   "metadata": {},
   "outputs": [],
   "source": [
    "g = sns.PairGrid(\n",
    "    df,\n",
    "    x_vars = ['anneal'],\n",
    "    y_vars = ['mu_H'],\n",
    "    aspect = 3,\n",
    "    hue  = 'capping',\n",
    ")\n",
    "g.map(sns.lineplot)\n",
    "g.add_legend()"
   ]
  },
  {
   "cell_type": "code",
   "execution_count": null,
   "metadata": {},
   "outputs": [],
   "source": [
    "plot_var_list = ['mu_H', 'n_sh']\n",
    "fig, ax_list = plt.subplots(\n",
    "    nrows = len(plot_var_list), \n",
    "    sharex = True,\n",
    ")\n",
    "\n",
    "for plot_var, ax in zip(plot_var_list, ax_list):\n",
    "    sns.lineplot(\n",
    "        x = 'anneal',\n",
    "        y = plot_var,\n",
    "        style = 'capping',\n",
    "        hue   = 'doping',\n",
    "        data  = df,\n",
    "        ax    = ax,\n",
    "    )"
   ]
  },
  {
   "cell_type": "code",
   "execution_count": null,
   "metadata": {},
   "outputs": [],
   "source": [
    "data = (\n",
    "    df[['doping', 'capping', 'anneal', 'mu_opt', 'mu_H']]\n",
    "    .melt(id_vars = ['doping', 'capping', 'anneal'],\n",
    "          value_vars = ['mu_opt', 'mu_H'],\n",
    "          value_name = 'Mobility',\n",
    "          var_name = 'Kind',\n",
    "         )\n",
    "    .replace({\n",
    "        'mu_opt': 'Optical',\n",
    "        'mu_H'  : 'Hall',\n",
    "        })\n",
    "    .assign(\n",
    "        Mobility = lambda df: 1e4*df.Mobility, # to cm^2/Vs\n",
    "    )\n",
    ")\n",
    "p = sns.lineplot(\n",
    "    x = 'anneal',\n",
    "    y = 'Mobility',\n",
    "    hue = 'doping',\n",
    "    style = 'Kind',\n",
    "    data = data[data.capping == 'cap'],\n",
    ")\n",
    "\n",
    "p.set(\n",
    "    xlabel = 'Anneal temperature',\n",
    "    ylabel = 'Mobility $\\mu$ cm$^2$/Vs',\n",
    ")\n",
    "\n",
    "EXPORT = False \n",
    "\n",
    "if EXPORT:\n",
    "    p.get_figure().savefig(imagefolder + 'mobilities_vs_anneal.png')"
   ]
  },
  {
   "cell_type": "code",
   "execution_count": null,
   "metadata": {},
   "outputs": [],
   "source": [
    "from Da_visu import get_lines\n",
    "\n",
    "k_impact = get_lines(ks = [0.2, 0.5, 1, 2, 5])\n",
    "\n",
    "class idDict(dict):\n",
    "    def __missing__(self, x):\n",
    "        return x\n",
    "\n",
    "# possible LaTeX labels go here\n",
    "names = idDict({\n",
    "    'k' : '$L/L_t$',\n",
    "    'sol_type' : 'geometry',\n",
    "    'x' : 'r',\n",
    "    'phi' : '$\\phi/\\\\bar{\\phi}$',\n",
    "})\n",
    "\n",
    "k_impact.sol_type = k_impact.sol_type.map({\n",
    "    'cyl' : 'cylindrical',\n",
    "    'planar' : 'Cartesian',\n",
    "})\n",
    "#k_impact.k = k_impact.k.astype(str)\n",
    "print(k_impact.dtypes)\n",
    "\n",
    "\n",
    "p = sns.lineplot(\n",
    "    data = (\n",
    "        k_impact\n",
    "        .rename(columns = names)\n",
    "    ),\n",
    "    x = names['x'],\n",
    "    y = names['phi'],\n",
    "    hue = names['k'],\n",
    "    style = names['sol_type'],\n",
    "    palette='tab10',\n",
    "    )\n",
    "\n",
    "\n",
    "p.set(\n",
    "    ylim = (0,8),\n",
    "    xlim = (0,1),\n",
    "    title = 'Solutions of $\\\\nabla^2\\phi = (L/L_t)^2\\phi$ in cylindrical and Cartesian coordinates',\n",
    ")\n",
    "\n",
    "plt.show()\n",
    "\n",
    "EXPORT = True\n",
    "\n",
    "if EXPORT:\n",
    "    p.get_figure().savefig(imagefolder + 'phi_solutions.png')"
   ]
  },
  {
   "cell_type": "code",
   "execution_count": null,
   "metadata": {},
   "outputs": [],
   "source": [
    "from Da_visu import get_lines\n",
    "\n",
    "df = get_lines(ks = np.linspace(0.01, 2, 100), xs = np.array([1]))\n",
    "\n",
    "class idDict(dict):\n",
    "    def __missing__(self, x):\n",
    "        return x\n",
    "\n",
    "# possible LaTeX labels go here\n",
    "names = idDict({\n",
    "    'k' : '$L/L_t$',\n",
    "    'sol_type' : 'geometry',\n",
    "    'x' : 'r',\n",
    "    'phi' : '$\\phi/\\\\bar{\\phi}$',\n",
    "\n",
    "})\n",
    "\n",
    "df.sol_type = df.sol_type.map({\n",
    "    'cyl' : 'cylindrical',\n",
    "    'planar' : 'Cartesian',\n",
    "})\n",
    "\n",
    "\n",
    "p = sns.lineplot(\n",
    "    data = df.rename(columns = names),\n",
    "    x = names['k'],\n",
    "    y = names['phi'],\n",
    "    style = names['sol_type'],\n",
    ")\n",
    "p.axhline(0.99, c='k')\n",
    "p.set(\n",
    "    xlim = (0, 2),\n",
    ")\n",
    "plt.show()\n",
    "\n",
    "if EXPORT:\n",
    "    p.get_figure().savefig(imagefolder + 'phi_solutions_edge.png')"
   ]
  },
  {
   "cell_type": "code",
   "execution_count": null,
   "metadata": {},
   "outputs": [],
   "source": [
    "from Da_visu import get_symmetric\n",
    "\n",
    "ks = [0.2, 0.5, 1, 2, 5]\n",
    "k_impact = get_symmetric(ks = ks)\n",
    "\n",
    "class idDict(dict):\n",
    "    def __missing__(self, x):\n",
    "        return x\n",
    "\n",
    "# possible LaTeX labels go here\n",
    "names = idDict({\n",
    "    'k' : '$L/L_t$',\n",
    "    'x' : 'x',\n",
    "    'phi' : '$\\phi/\\\\bar{\\phi}$',\n",
    "})\n",
    "\n",
    "p = sns.lineplot(\n",
    "    data = (\n",
    "        k_impact\n",
    "        .rename(columns = names)\n",
    "    ),\n",
    "    x = names['x'],\n",
    "    y = names['phi'],\n",
    "    hue = names['k'],\n",
    "    #style = names['sol_type'],\n",
    "    palette='tab10',\n",
    "    )\n",
    "\n",
    "\n",
    "p.set(\n",
    "    ylim = (0,3),\n",
    "    xlim = (0,1),\n",
    "    title = 'Symmetric solutions of $\\\\nabla^2\\phi = (L/L_t)^2\\phi$ in Cartesian coordinates',\n",
    ")\n",
    "\n",
    "plt.show()\n",
    "\n",
    "EXPORT = False\n",
    "\n",
    "if EXPORT:\n",
    "    p.get_figure().savefig(imagefolder + 'phi_solutions_symmetric.png')"
   ]
  },
  {
   "cell_type": "code",
   "execution_count": null,
   "metadata": {},
   "outputs": [],
   "source": [
    "import matplotlib.pyplot as plt\n",
    "\n",
    "from mpl_toolkits.axes_grid1.inset_locator import zoomed_inset_axes\n",
    "from mpl_toolkits.axes_grid1.inset_locator import mark_inset\n",
    "\n",
    "import numpy as np\n",
    "\n",
    "from Da_visu import symmetric_fn\n",
    "\n",
    "def periodic_fn(k = 3):\n",
    "    fn = symmetric_fn(k = k)\n",
    "    def wrapped(x):\n",
    "        return fn(x%1)\n",
    "    return wrapped\n",
    "    \n",
    "x = np.linspace(0, 5, 200)\n",
    "fig, ax = plt.subplots()\n",
    "ax.plot(x, periodic_fn()(x))\n",
    "ax.set_xlim(0, 5)\n",
    "ax.set_ylim(0, 2)\n",
    "\n",
    "axins = zoomed_inset_axes(ax, 1, loc=7) # zoom = 6\n",
    "axins.plot(x, periodic_fn()(x))\n",
    "x1, x2, y1, y2 = 0, 0.5, 0, 2\n",
    "axins.set_xlim(x1, x2)\n",
    "axins.set_ylim(y1, y2)\n",
    "#mark_inset(ax, axins, loc1=2, loc2=4, fc=\"none\", ec=\"0.5\")\n",
    "plt.show()\n"
   ]
  },
  {
   "cell_type": "code",
   "execution_count": 3,
   "metadata": {},
   "outputs": [
    {
     "name": "stdout",
     "output_type": "stream",
     "text": [
      "importing Jupyter notebook from consistency.ipynb\n",
      "              name     l    w  area                  comment       R      rho  \\\n",
      "0  pSi_r48_400C_Ag  1.05  1.0  1.05  copper even counterflow  0.0859   90.195   \n",
      "1  pSi_r48_400C_Ag  1.05  1.0  1.05                      NaN  0.0878   92.190   \n",
      "2  pSi_r48_400C_Ag  1.05  1.0  1.05                      NaN  0.0904   94.920   \n",
      "3  pSi_r48_400C_Ag  1.05  1.0  1.05                      NaN  0.0906   95.130   \n",
      "4  pSi_r48_400C_Ag  1.05  1.0  1.05                      NaN  0.0954  100.170   \n",
      "\n",
      "  orientation piece  \n",
      "0        long     A  \n",
      "1        long     A  \n",
      "2        long     A  \n",
      "3        long     A  \n",
      "4        long     A  \n"
     ]
    },
    {
     "data": {
      "image/png": "[encoded data removed]",
      "text/plain": [
       "<Figure size 419.915x360 with 1 Axes>"
      ]
     },
     "metadata": {},
     "output_type": "display_data"
    }
   ],
   "source": [
    "from consistency import df_consistency, filter_multiple_orientations\n",
    "\n",
    "class idDict(dict):\n",
    "    def __missing__(self, x):\n",
    "        return x\n",
    "\n",
    "# possible LaTeX labels go here\n",
    "names = idDict({\n",
    "    'rho' : '$\\\\rho$ [m$\\\\Omega$ cm$^2$]',\n",
    "    'label': 'sample type', \n",
    "})\n",
    "\n",
    "p = sns.catplot(\n",
    "    data = (df_consistency\n",
    "            .pipe(filter_multiple_orientations)\n",
    "            .rename(columns = names)\n",
    "           ),\n",
    "    x = names['label'],\n",
    "    y = names['rho'],\n",
    "    hue = 'orientation',\n",
    "    kind = 'box',\n",
    ")\n",
    "p.set(\n",
    "    #yscale = 'log',\n",
    "    ylim = (0, None),\n",
    "    title = \"Measured contact resistivities with varying sample orientation\",\n",
    ")\n",
    "\n",
    "#plt.show()\n",
    "    \n",
    "EXPORT = False\n",
    "\n",
    "if EXPORT:\n",
    "    p.savefig(imagefolder + 'measurement_orientation.png')\n",
    "    \n",
    "EXPORT = False"
   ]
  },
  {
   "cell_type": "code",
   "execution_count": 10,
   "metadata": {},
   "outputs": [
    {
     "data": {
      "image/png": "[encoded data removed]",
      "text/plain": [
       "<Figure size 397.805x360 with 1 Axes>"
      ]
     },
     "metadata": {},
     "output_type": "display_data"
    }
   ],
   "source": [
    "\n",
    "p = sns.catplot(\n",
    "    x = 'label',\n",
    "    y = 'rho',\n",
    "    kind = 'box',\n",
    "    hue = 'piece',\n",
    "    data = (df_consistency\n",
    "            .assign(lbl = lambda df : list(zip(df.label, df.area)))\n",
    "           )\n",
    "    \n",
    ")\n",
    "\n",
    "\n",
    "p.set(\n",
    "    yscale = 'log',\n",
    "    ylim = [10,1000]\n",
    "    #xlabel = 'samples',\n",
    "    #xticklabels = [],\n",
    ")\n",
    "\n",
    "EXPORT = True\n",
    "\n",
    "if EXPORT:\n",
    "    p.savefig(imagefolder + 'measurement_piece.png')\n",
    "    \n",
    "EXPORT = False\n",
    "                    \n",
    "        "
   ]
  },
  {
   "cell_type": "code",
   "execution_count": 12,
   "metadata": {},
   "outputs": [
    {
     "data": {
      "image/png": "[encoded data removed]",
      "text/plain": [
       "<Figure size 432x288 with 1 Axes>"
      ]
     },
     "metadata": {},
     "output_type": "display_data"
    }
   ],
   "source": [
    "from consistency import PCB_plot, CBKR_plot\n",
    "\n",
    "if __name__ == \"__main__\":\n",
    "    from matplotlib import pyplot as plt\n",
    "\n",
    "    plt.axline(\n",
    "        (0,0), \n",
    "        slope = 1,\n",
    "        color = 'k',\n",
    "    )\n",
    "\n",
    "    plt.errorbar(\n",
    "        x =  PCB_plot['mean'], \n",
    "        xerr = PCB_plot[['min_err','max_err']].values.T,\n",
    "        y = CBKR_plot['mean'],\n",
    "        yerr = CBKR_plot[['min_err','max_err']].values.T,\n",
    "        fmt = '.',\n",
    "        capsize = 3,\n",
    "    )\n",
    "\n",
    "    plt.grid()\n",
    "\n",
    "    plt.gca().set(\n",
    "        xlabel = 'PCB [m$\\\\Omega$cm$^2$]',\n",
    "        ylabel = 'CBKR [m$\\\\Omega$cm$^2$]',\n",
    "        title = 'PCB vs CBKR measurements',\n",
    "    )\n",
    "    \n",
    "    #plt.yscale('log')\n",
    "    #plt.xscale('log')\n",
    "    \n",
    "    \n",
    "EXPORT = True\n",
    "\n",
    "if EXPORT:\n",
    "    plt.savefig(imagefolder + 'CBKRvsPCB.png')"
   ]
  },
  {
   "cell_type": "code",
   "execution_count": 17,
   "metadata": {},
   "outputs": [
    {
     "data": {
      "text/plain": [
       "<ErrorbarContainer object of 3 artists>"
      ]
     },
     "execution_count": 17,
     "metadata": {},
     "output_type": "execute_result"
    },
    {
     "data": {
      "image/png": "[encoded data removed]",
      "text/plain": [
       "<Figure size 432x288 with 1 Axes>"
      ]
     },
     "metadata": {},
     "output_type": "display_data"
    }
   ],
   "source": [
    "plt.errorbar(\n",
    "    x =  PCB_plot['mean'], \n",
    "    xerr = PCB_plot['std'],\n",
    "    y = CBKR_plot['mean'],\n",
    "    yerr = CBKR_plot['std'],\n",
    "    fmt = '.',\n",
    "    capsize = 3,\n",
    ")"
   ]
  },
  {
   "cell_type": "code",
   "execution_count": null,
   "metadata": {},
   "outputs": [],
   "source": []
  }
 ],
 "metadata": {
  "kernelspec": {
   "display_name": "Python 3 (ipykernel)",
   "language": "python",
   "name": "python3"
  },
  "language_info": {
   "codemirror_mode": {
    "name": "ipython",
    "version": 3
   },
   "file_extension": ".py",
   "mimetype": "text/x-python",
   "name": "python",
   "nbconvert_exporter": "python",
   "pygments_lexer": "ipython3",
   "version": "3.8.10"
  }
 },
 "nbformat": 4,
 "nbformat_minor": 4
}

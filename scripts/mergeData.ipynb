{
 "cells": [
  {
   "cell_type": "code",
   "execution_count": 1,
   "id": "122a40e9-2909-4713-bb7d-e1f1b1784a64",
   "metadata": {},
   "outputs": [],
   "source": [
    "import pandas as pd\n",
    "import import_ipynb\n",
    "\n",
    "datapath = \"../data/\" "
   ]
  },
  {
   "cell_type": "markdown",
   "id": "202117d3-61b4-469c-8a5f-21a8bdaa8cb2",
   "metadata": {
    "tags": []
   },
   "source": [
    "# Type and unit declarations"
   ]
  },
  {
   "cell_type": "code",
   "execution_count": 108,
   "id": "d64f74f2-4701-4948-9426-983209f9fe0a",
   "metadata": {},
   "outputs": [],
   "source": [
    "from pandas.api.types import CategoricalDtype\n",
    "from astropy import units as u\n",
    "\n",
    "dopingCat = CategoricalDtype(\n",
    "    categories=['int', 'r96', 'r48', 'r24', 'r16'],\n",
    "    ordered=True                     \n",
    ")\n",
    "\n",
    "cappingCat = CategoricalDtype(\n",
    "    categories = ['cap', 'nocap'],\n",
    "    ordered=False  # maybe change this...\n",
    ")\n",
    "\n",
    "annealCat = CategoricalDtype(\n",
    "    categories=['asdep'] + [f'{T}C' for T in range(300, 750, 50)],\n",
    "    ordered = True\n",
    ")\n",
    "\n",
    "SEUnits = {\n",
    "    # thicknesses\n",
    "    't_AlOx' : u.nm,\n",
    "    't_AZO' : u.nm,\n",
    "    't_SiOx' : u.nm,\n",
    "    't_int' : u.nm,\n",
    "    # AZO fit parameters\n",
    "    'AZO_Einf' : u.eV,\n",
    "    ## Tauc-Lorentz\n",
    "    'TL_Amp' : u.eV,\n",
    "    'TL_E0': u.eV,\n",
    "    'TL_Eg': u.eV,\n",
    "    'TL_Br': u.eV,\n",
    "    ## free carrier absorption\n",
    "    'omega_t' : u.eV,\n",
    "    'omega_p' : u.eV,\n",
    "    # Misc\n",
    "    'roughness' : u.nm,\n",
    "    'MSE' : None,\n",
    "    'offset_angle' : None,\n",
    "}\n",
    "\n",
    "HallUnits = {\n",
    "    'mu_H'  : u.m**2 /(u.V* u.s), # m^2 V-1 s-1\n",
    "    'n'     : u.m**(-3), # m^-3\n",
    "    'n_sh'  : u.m**(-2), # m^-2\n",
    "    'R_H'   : u.m**3 /u.C, # m^3 C^-1\n",
    "    'R_H_sh': u.m**2 /u.C, # m^2 C^-1\n",
    "    'rho'   : u.Ohm * u.m, # Ohm m\n",
    "    'rho_sh': u.Ohm, # Ohm sq\n",
    "    'V_H'   : u.V, # V\n",
    "    'd_AZO_Hall'     : u.nm, # nm\n",
    "}\n",
    "\n"
   ]
  },
  {
   "cell_type": "markdown",
   "id": "85db3108-6e3d-4bea-beb5-c43dde28633a",
   "metadata": {},
   "source": [
    "# Get SE fit parameters"
   ]
  },
  {
   "cell_type": "code",
   "execution_count": 3,
   "id": "68cf2b44-47dc-478d-bc3b-4c47d525d31e",
   "metadata": {},
   "outputs": [],
   "source": [
    "columnNameMap = {\n",
    "    'MSE' : 'MSE',\n",
    "    'Roughness (nm)' : 'roughness',\n",
    "    'Thickness # 4 (nm)' : 't_AlOx',\n",
    "    'Thickness # 3 (nm)' : 't_AZO',\n",
    "    'Thickness # 2 (nm)' : 't_SiOx',\n",
    "    'Thickness # 1 (nm)' : 't_int',\n",
    "    'Einf' : 'AZO_Einf',\n",
    "    'Amp1' : 'TL_Amp',\n",
    "    'Br1' : 'TL_Br',\n",
    "    'Eo1' : 'TL_E0',\n",
    "    'Eg1' : 'TL_Eg',\n",
    "    'A2' : 'omega_p',\n",
    "    'B2' : 'omega_t',\n",
    "    'Angle Offset' : 'offset_angle',\n",
    "    ' ' : 'sample_name'\n",
    "}\n",
    "\n",
    "def preFilter(df):\n",
    "    # sample r16_cap_asdep_no2 should be removed\n",
    "    return df[df.sample_name != 'r16_cap_asdep_no2']\n",
    "\n",
    "def nameToConditions(df):\n",
    "    def splitNames(x):\n",
    "        values = x.sample_name.split('_')\n",
    "        keys = ['doping', 'capping', 'anneal']\n",
    "        return pd.Series({**x, **dict(zip(keys, values))})\n",
    "    return (df\n",
    "            .apply(splitNames, axis = 1)\n",
    "            .drop(columns = 'sample_name')\n",
    "            .astype({'doping' : dopingCat, 'capping' : cappingCat, 'anneal' : annealCat})\n",
    "           )\n",
    "\n",
    "def getData_SE(csvFile):\n",
    "    return (pd\n",
    "            .read_csv(csvFile, sep = '\\t')\n",
    "            .rename(columns = columnNameMap)\n",
    "            .pipe(preFilter)\n",
    "            .pipe(nameToConditions)\n",
    "    )\n",
    "\n",
    "dataSE = (\n",
    "    pd\n",
    "    .concat(\n",
    "        [getData_SE(datapath + '/SE_anneal/capped_data/parameters.csv'),\n",
    "         getData_SE(datapath + '/SE_anneal/uncapped_data/parameters.csv')\n",
    "        ]\n",
    "    )\n",
    ")"
   ]
  },
  {
   "cell_type": "markdown",
   "id": "9bbb74f1-bd7c-4d9c-a8bb-0c7c77937bf1",
   "metadata": {},
   "source": [
    "# get Hall data"
   ]
  },
  {
   "cell_type": "code",
   "execution_count": 122,
   "id": "803a8621-b1dd-4622-b0d1-fb08649cc538",
   "metadata": {},
   "outputs": [],
   "source": [
    "from hall_data import get_df\n",
    "dataHall = (\n",
    "    get_df()\n",
    "    .astype({'doping' : dopingCat, 'capping' : cappingCat, 'anneal' : annealCat})\n",
    "    .rename(columns = {'d' : 'd_AZO_Hall'})\n",
    "    .drop(columns = 'filename')\n",
    ")"
   ]
  },
  {
   "cell_type": "code",
   "execution_count": 5,
   "id": "131d254d-2be2-44b3-9255-d90f9b936539",
   "metadata": {},
   "outputs": [],
   "source": [
    "#dataSE.merge(dataHall, on = ['doping', 'capping', 'anneal'], how = 'outer')"
   ]
  },
  {
   "cell_type": "markdown",
   "id": "6f28f4c9-4cd4-470e-ab73-add61921d362",
   "metadata": {},
   "source": [
    "# get $\\rho_c$ data"
   ]
  },
  {
   "cell_type": "code",
   "execution_count": 6,
   "id": "279a921c-4a7e-4a27-893d-a566a23f266c",
   "metadata": {},
   "outputs": [
    {
     "name": "stdout",
     "output_type": "stream",
     "text": [
      "importing Jupyter notebook from rho_c_data.ipynb\n"
     ]
    }
   ],
   "source": [
    "from rho_c_data import dataRho as inputDataRho"
   ]
  },
  {
   "cell_type": "code",
   "execution_count": 7,
   "id": "7ab9f492-76e8-4ae0-9a18-0ebf3da4bc1e",
   "metadata": {},
   "outputs": [],
   "source": [
    "def concatMultiIndex(df):\n",
    "    df.columns = ['_'.join(x[::-1]).replace('%', '') for x in df.columns.to_flat_index()]\n",
    "    return df\n",
    "\n",
    "dataRho = (inputDataRho\n",
    " .query('substrate != \"pSi\"')\n",
    " .assign(capping = 'cap')\n",
    " .astype({'doping' : dopingCat, 'capping' : cappingCat, 'anneal' : annealCat})\n",
    " .groupby(['doping', 'anneal', 'capping', 'substrate'])['rho_c']\n",
    " .describe()\n",
    " .unstack()\n",
    " .pipe(concatMultiIndex)\n",
    "# .rename(columns = lambda x : '_'.join(x), level = 0)\n",
    " .reset_index()\n",
    ")"
   ]
  },
  {
   "cell_type": "markdown",
   "id": "3b512d01-c47b-422d-9417-e2edb5994dcd",
   "metadata": {},
   "source": [
    "# Merge all data"
   ]
  },
  {
   "cell_type": "code",
   "execution_count": 8,
   "id": "d0ee4272-7374-4998-a455-e9ac874b43eb",
   "metadata": {},
   "outputs": [],
   "source": [
    "HSE = (\n",
    "    dataSE\n",
    "    .merge(dataHall, on = ['doping', 'capping', 'anneal'], how = 'outer')\n",
    ")"
   ]
  },
  {
   "cell_type": "code",
   "execution_count": 9,
   "id": "04ad1f0a-436f-4baf-9bb4-b2ad13dd9377",
   "metadata": {},
   "outputs": [],
   "source": [
    "data = (\n",
    "    HSE\n",
    "    .merge(dataRho , on = ['doping', 'capping', 'anneal'], how = 'outer')\n",
    ")"
   ]
  },
  {
   "cell_type": "markdown",
   "id": "16f0e387-85d2-4462-add4-ab703edad2be",
   "metadata": {},
   "source": [
    "# Recalculate bulk properties from SE thickness"
   ]
  },
  {
   "cell_type": "code",
   "execution_count": 10,
   "id": "752b9af6-82d8-41cd-99b9-6c633bdb6224",
   "metadata": {},
   "outputs": [],
   "source": [
    "def recalc_bulk(idf):\n",
    "    t_AZO = SEUnits['t_AZO']*idf.t_AZO.values\n",
    "    return (idf\n",
    "            .assign(\n",
    "                rho_corr = lambda df: (t_AZO*HallUnits['rho_sh']*df.rho_sh.values).to_value(HallUnits['rho']),\n",
    "                n_corr   = lambda df: (HallUnits['n_sh'  ]*df.n_sh.values/t_AZO  ).to_value(HallUnits['n']),\n",
    "                R_H_corr = lambda df: (t_AZO*HallUnits['R_H_sh']*df.R_H_sh.values).to_value(HallUnits['R_H']),\n",
    "            )\n",
    "           )"
   ]
  },
  {
   "cell_type": "code",
   "execution_count": 11,
   "id": "e96e6a0a-5f24-48fd-bbc2-cd9ce852ad9f",
   "metadata": {},
   "outputs": [],
   "source": [
    "HSE = (\n",
    "    HSE\n",
    "    .pipe(recalc_bulk)    \n",
    ")"
   ]
  },
  {
   "cell_type": "code",
   "execution_count": 89,
   "id": "c60c5674-38f0-4eda-8450-c65f7ab09268",
   "metadata": {},
   "outputs": [
    {
     "name": "stdout",
     "output_type": "stream",
     "text": [
      "Index(['MSE', 'roughness', 't_AlOx', 't_AZO', 'AZO_Einf', 'TL_Amp', 'TL_Br',\n",
      "       'TL_E0', 'TL_Eg', 'omega_p', 'omega_t', 't_SiOx', 't_int',\n",
      "       'offset_angle', 'doping', 'capping', 'anneal', 'mu_H', 'Carrier type',\n",
      "       'n', 'n_sh', 'R_H', 'R_H_sh', 'rho', 'rho_sh', 'V_H', 'd_AZO_Hall',\n",
      "       'rho_corr', 'n_corr', 'R_H_corr'],\n",
      "      dtype='object')\n"
     ]
    },
    {
     "data": {
      "image/png": "[encoded data removed]",
      "text/plain": [
       "<Figure size 432x288 with 1 Axes>"
      ]
     },
     "metadata": {
      "needs_background": "light"
     },
     "output_type": "display_data"
    }
   ],
   "source": [
    "if __name__ == '__main__':\n",
    "    import seaborn as sns\n",
    "    from matplotlib import pyplot as plt\n",
    "    \n",
    "    print(HSE.columns)\n",
    "    \n",
    "    def plotvar(x):\n",
    "        #return (x.omega_p**2)/(x.omega_t*x.n_corr)\n",
    "        return x.omega_p\n",
    "    \n",
    "    p = sns.lineplot(\n",
    "        data = (HSE\n",
    "                .assign(pv = plotvar)\n",
    "                .pipe(lambda df: df[df.capping == 'cap'])\n",
    "               ),\n",
    "        x = 'n_corr',\n",
    "        y = 'TL_Eg',\n",
    "        #style = 'capping',\n",
    "        hue = 'doping',\n",
    "    )\n",
    "    \n",
    "    #p.set(yscale = 'log')\n",
    "    p.grid(which = 'both')\n",
    "    \n",
    "    plt.legend(bbox_to_anchor=(1.02, 1), loc='upper left', borderaxespad=0)\n"
   ]
  },
  {
   "cell_type": "code",
   "execution_count": 91,
   "id": "96c0819c-64c8-4b60-91b2-f3b409081f27",
   "metadata": {},
   "outputs": [
    {
     "data": {
      "image/png": "[encoded data removed]",
      "text/plain": [
       "<Figure size 432x288 with 1 Axes>"
      ]
     },
     "metadata": {
      "needs_background": "light"
     },
     "output_type": "display_data"
    }
   ],
   "source": [
    "if __name__ == '__main__':\n",
    "    import seaborn as sns\n",
    "    import numpy as np\n",
    "    from matplotlib import pyplot as plt\n",
    "    \n",
    "    p = sns.scatterplot(\n",
    "        data = (HSE\n",
    "                .pipe(lambda df: df[df.capping == 'cap'])\n",
    "                .assign(sqrt_n = lambda x: x.n_corr ** 0.5)\n",
    "                .assign(m_eff = lambda x: x.n_corr/(x.omega_p **2))\n",
    "                .assign(m_eff_32 = lambda x: x.m_eff ** (3/2))\n",
    "                .assign(mu_opt = lambda x: (x.omega_p **2)/(x.omega_t * x.n_corr))\n",
    "                .assign(scat_m_eff = lambda x: x.omega_t * x.m_eff)\n",
    "                .assign(n_expected = lambda x: x.m_eff_32*np.exp(-x.TL_Eg/(2*0.0259)))\n",
    "               ),\n",
    "        x = 'n_corr',\n",
    "        y = 'TL_Eg',\n",
    "        hue = 'anneal',\n",
    "    )\n",
    "    \n",
    "    plt.legend(bbox_to_anchor=(1.02, 1), loc='upper left', borderaxespad=0)\n",
    "\n",
    "    p.set(yscale = 'log', xscale = 'log')"
   ]
  },
  {
   "cell_type": "code",
   "execution_count": null,
   "id": "fb7ffe8f-edf3-4294-8fee-1ed410e48d9c",
   "metadata": {},
   "outputs": [],
   "source": []
  }
 ],
 "metadata": {
  "kernelspec": {
   "display_name": "Python 3 (ipykernel)",
   "language": "python",
   "name": "python3"
  },
  "language_info": {
   "codemirror_mode": {
    "name": "ipython",
    "version": 3
   },
   "file_extension": ".py",
   "mimetype": "text/x-python",
   "name": "python",
   "nbconvert_exporter": "python",
   "pygments_lexer": "ipython3",
   "version": "3.8.10"
  }
 },
 "nbformat": 4,
 "nbformat_minor": 5
}

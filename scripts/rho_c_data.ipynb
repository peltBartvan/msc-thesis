{
 "cells": [
  {
   "cell_type": "code",
   "execution_count": 1,
   "metadata": {},
   "outputs": [
    {
     "name": "stdout",
     "output_type": "stream",
     "text": [
      "importing Jupyter notebook from hall_data.ipynb\n"
     ]
    }
   ],
   "source": [
    "import pandas as pd\n",
    "import numpy as np\n",
    "import sys\n",
    "from sklearn.linear_model import LinearRegression\n",
    "import import_ipynb\n",
    "from hall_data import doping, anneal"
   ]
  },
  {
   "cell_type": "markdown",
   "metadata": {},
   "source": [
    "# Get image data"
   ]
  },
  {
   "cell_type": "code",
   "execution_count": 2,
   "metadata": {},
   "outputs": [],
   "source": [
    "sample_datafile = '../data/rho_c/sample_images/data.pkl'\n",
    "image_df = pd.read_pickle(sample_datafile)"
   ]
  },
  {
   "cell_type": "markdown",
   "metadata": {},
   "source": [
    "Filter out TNO data"
   ]
  },
  {
   "cell_type": "code",
   "execution_count": 3,
   "metadata": {},
   "outputs": [],
   "source": [
    "image_df = image_df[image_df.apply(lambda x: 'TNO' not in x['sample name'], axis = 1)]"
   ]
  },
  {
   "cell_type": "markdown",
   "metadata": {},
   "source": [
    "Handle sample names"
   ]
  },
  {
   "cell_type": "code",
   "execution_count": 4,
   "metadata": {},
   "outputs": [],
   "source": [
    "def extract_parameters(x):\n",
    "    keys = ['substrate', 'doping', 'anneal']\n",
    "    values = x['sample name'].split('_')\n",
    "    res = dict(zip(keys, values))\n",
    "    piece = 'piece' + str(int(x.piece))\n",
    "    res['piece'] = piece\n",
    "    return pd.Series({**x, **res})\n",
    "\n",
    "image_df = image_df.apply(extract_parameters, axis = 1)"
   ]
  },
  {
   "cell_type": "markdown",
   "metadata": {},
   "source": [
    "Calculate sample area."
   ]
  },
  {
   "cell_type": "code",
   "execution_count": 5,
   "metadata": {},
   "outputs": [],
   "source": [
    "COIN_RADIUS = 20.25 /(2*10) # cm (diameter to radius, mm to cm)\n",
    "REFERENCE_AREA = np.pi*COIN_RADIUS**2 # cm^2\n",
    "\n",
    "def get_area(x):\n",
    "    return REFERENCE_AREA*x['pixels']/x['ref pixels']\n",
    "\n",
    "image_df = image_df.assign(area = get_area)"
   ]
  },
  {
   "cell_type": "markdown",
   "metadata": {},
   "source": [
    "# Get IVt data"
   ]
  },
  {
   "cell_type": "code",
   "execution_count": 6,
   "metadata": {},
   "outputs": [],
   "source": [
    "IVt_folder = '../data/rho_c/'\n",
    "sys.path.append(IVt_folder)\n",
    "import getData\n",
    "rho_df = getData.get_all_data()"
   ]
  },
  {
   "cell_type": "markdown",
   "metadata": {},
   "source": [
    "Fit measured resistance."
   ]
  },
  {
   "cell_type": "code",
   "execution_count": 7,
   "metadata": {},
   "outputs": [],
   "source": [
    "def fit_resistance(x):\n",
    "    data = x.data\n",
    "    [[R]] = LinearRegression().fit(data.I.values.reshape(-1,1),\n",
    "                              data.V.values.reshape(-1,1)).coef_\n",
    "    return R\n",
    "\n",
    "rho_df = rho_df.apply(lambda x: pd.Series({**x, 'R' : fit_resistance(x)}), axis = 1)"
   ]
  },
  {
   "cell_type": "markdown",
   "metadata": {},
   "source": [
    "# Merge image and resistance data"
   ]
  },
  {
   "cell_type": "code",
   "execution_count": 18,
   "metadata": {},
   "outputs": [],
   "source": [
    "full_df = rho_df.merge(image_df, on = ['substrate', 'doping', 'anneal', 'piece'])\n",
    "full_df.doping = full_df.doping.astype(doping)\n",
    "full_df.anneal = full_df.doping.astype(anneal)\n",
    "full_df = full_df.assign(rho_s = lambda x: x.R*x.area)\n",
    "full_df = full_df.assign(rho_c = lambda x: x.rho_s/2)"
   ]
  },
  {
   "cell_type": "code",
   "execution_count": 19,
   "metadata": {},
   "outputs": [],
   "source": [
    "df = full_df[['substrate', 'doping', 'anneal', 'R', 'area', 'rho_c']]"
   ]
  },
  {
   "cell_type": "code",
   "execution_count": 20,
   "metadata": {},
   "outputs": [
    {
     "data": {
      "image/png": "[encoded data removed]",
      "text/plain": [
       "<Figure size 412.875x360 with 1 Axes>"
      ]
     },
     "metadata": {
      "needs_background": "light"
     },
     "output_type": "display_data"
    }
   ],
   "source": [
    "if __name__ == \"__main__\":\n",
    "    import seaborn as sns\n",
    "    p = sns.catplot(x = 'substrate', y = 'rho_c', hue = 'doping', kind = 'bar', data = df)\n",
    "    p.set(yscale = 'log')"
   ]
  },
  {
   "cell_type": "code",
   "execution_count": null,
   "metadata": {},
   "outputs": [],
   "source": []
  }
 ],
 "metadata": {
  "kernelspec": {
   "display_name": "Python 3",
   "language": "python",
   "name": "python3"
  },
  "language_info": {
   "codemirror_mode": {
    "name": "ipython",
    "version": 3
   },
   "file_extension": ".py",
   "mimetype": "text/x-python",
   "name": "python",
   "nbconvert_exporter": "python",
   "pygments_lexer": "ipython3",
   "version": "3.8.10"
  }
 },
 "nbformat": 4,
 "nbformat_minor": 4
}

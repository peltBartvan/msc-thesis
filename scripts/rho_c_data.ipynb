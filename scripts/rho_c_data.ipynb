{
 "cells": [
  {
   "cell_type": "code",
   "execution_count": 1,
   "metadata": {},
   "outputs": [
    {
     "name": "stdout",
     "output_type": "stream",
     "text": [
      "importing Jupyter notebook from hall_data.ipynb\n"
     ]
    }
   ],
   "source": [
    "import pandas as pd\n",
    "import numpy as np\n",
    "import sys\n",
    "from sklearn.linear_model import LinearRegression\n",
    "import import_ipynb\n",
    "from hall_data import doping, anneal"
   ]
  },
  {
   "cell_type": "markdown",
   "metadata": {},
   "source": [
    "# Get image data"
   ]
  },
  {
   "cell_type": "code",
   "execution_count": 2,
   "metadata": {},
   "outputs": [],
   "source": [
    "sample_datafile = '../data/rho_c/sample_images/data.pkl'\n",
    "image_df = pd.read_pickle(sample_datafile)"
   ]
  },
  {
   "cell_type": "markdown",
   "metadata": {},
   "source": [
    "Filter out TNO data"
   ]
  },
  {
   "cell_type": "code",
   "execution_count": 3,
   "metadata": {},
   "outputs": [],
   "source": [
    "image_df = image_df[image_df.apply(lambda x: 'TNO' not in x['sample name'], axis = 1)]\n",
    "#image_df = image_df[image_df.apply(lambda x: 'pSi' in x['sample name'], axis = 1)]\n",
    "#image_df = image_df[image_df.apply(lambda x: 'r96' in x['sample name'] or 'r48' in x['sample name'], axis = 1)]"
   ]
  },
  {
   "cell_type": "markdown",
   "metadata": {},
   "source": [
    "Handle sample names"
   ]
  },
  {
   "cell_type": "code",
   "execution_count": 4,
   "metadata": {},
   "outputs": [],
   "source": [
    "def extract_parameters(x):\n",
    "    keys = ['substrate', 'doping', 'anneal']\n",
    "    values = x['sample name'].split('_')[:3]\n",
    "    res = dict(zip(keys, values))\n",
    "    piece = 'piece' + str(int(x.piece))\n",
    "    res['piece'] = piece\n",
    "    return pd.Series({**x, **res})\n",
    "\n",
    "image_df = image_df.apply(extract_parameters, axis = 1)"
   ]
  },
  {
   "cell_type": "markdown",
   "metadata": {},
   "source": [
    "Calculate sample area."
   ]
  },
  {
   "cell_type": "code",
   "execution_count": 5,
   "metadata": {},
   "outputs": [],
   "source": [
    "COIN_RADIUS = 20.25 /(2*10) # cm (diameter to radius, mm to cm)\n",
    "REFERENCE_AREA = np.pi*COIN_RADIUS**2 # cm^2\n",
    "\n",
    "def get_area(x):\n",
    "    return REFERENCE_AREA*x['pixels']/x['ref pixels']\n",
    "\n",
    "image_df = image_df.assign(area = get_area)"
   ]
  },
  {
   "cell_type": "markdown",
   "metadata": {},
   "source": [
    "# Get IVt data"
   ]
  },
  {
   "cell_type": "code",
   "execution_count": 6,
   "metadata": {},
   "outputs": [],
   "source": [
    "IVt_folder = '../data/rho_c/'\n",
    "sys.path.append(IVt_folder)\n",
    "import getData\n",
    "rho_df = getData.get_all_data()"
   ]
  },
  {
   "cell_type": "markdown",
   "metadata": {},
   "source": [
    "Fit measured resistance."
   ]
  },
  {
   "cell_type": "code",
   "execution_count": 7,
   "metadata": {},
   "outputs": [],
   "source": [
    "def fit_resistance(x):\n",
    "    data = x.data\n",
    "    [[R]] = LinearRegression().fit(data.I.values.reshape(-1,1),\n",
    "                              data.V.values.reshape(-1,1)).coef_\n",
    "    return R\n",
    "\n",
    "rho_df = rho_df.apply(lambda x: pd.Series({**x, 'R' : fit_resistance(x)}), axis = 1)"
   ]
  },
  {
   "cell_type": "markdown",
   "metadata": {},
   "source": [
    "# Merge image and resistance data"
   ]
  },
  {
   "cell_type": "code",
   "execution_count": 8,
   "metadata": {},
   "outputs": [],
   "source": [
    "full_df = rho_df.merge(image_df, \n",
    "                       on = ['substrate', 'doping', 'anneal', 'piece'],\n",
    "                       #how = 'outer',\n",
    "                      )\n",
    "full_df.doping = full_df.doping.astype(doping)\n",
    "#full_df.anneal = full_df.doping.astype(anneal)\n",
    "full_df = full_df.assign(rho_s = lambda x: x.R*x.area)\n",
    "full_df = full_df.assign(rho_c = lambda x: x.rho_s/2)"
   ]
  },
  {
   "cell_type": "code",
   "execution_count": 9,
   "metadata": {},
   "outputs": [
    {
     "data": {
      "text/html": [
       "<div>\n",
       "<style scoped>\n",
       "    .dataframe tbody tr th:only-of-type {\n",
       "        vertical-align: middle;\n",
       "    }\n",
       "\n",
       "    .dataframe tbody tr th {\n",
       "        vertical-align: top;\n",
       "    }\n",
       "\n",
       "    .dataframe thead th {\n",
       "        text-align: right;\n",
       "    }\n",
       "</style>\n",
       "<table border=\"1\" class=\"dataframe\">\n",
       "  <thead>\n",
       "    <tr style=\"text-align: right;\">\n",
       "      <th></th>\n",
       "      <th>substrate</th>\n",
       "      <th>doping</th>\n",
       "      <th>anneal</th>\n",
       "      <th>count</th>\n",
       "      <th>mean</th>\n",
       "      <th>std</th>\n",
       "      <th>min</th>\n",
       "      <th>25%</th>\n",
       "      <th>50%</th>\n",
       "      <th>75%</th>\n",
       "      <th>max</th>\n",
       "    </tr>\n",
       "  </thead>\n",
       "  <tbody>\n",
       "    <tr>\n",
       "      <th>0</th>\n",
       "      <td>130nplus</td>\n",
       "      <td>int</td>\n",
       "      <td>400C</td>\n",
       "      <td>1.0</td>\n",
       "      <td>2.043717</td>\n",
       "      <td>NaN</td>\n",
       "      <td>2.043717</td>\n",
       "      <td>2.043717</td>\n",
       "      <td>2.043717</td>\n",
       "      <td>2.043717</td>\n",
       "      <td>2.043717</td>\n",
       "    </tr>\n",
       "    <tr>\n",
       "      <th>1</th>\n",
       "      <td>130nplus</td>\n",
       "      <td>int</td>\n",
       "      <td>500C</td>\n",
       "      <td>1.0</td>\n",
       "      <td>1.867929</td>\n",
       "      <td>NaN</td>\n",
       "      <td>1.867929</td>\n",
       "      <td>1.867929</td>\n",
       "      <td>1.867929</td>\n",
       "      <td>1.867929</td>\n",
       "      <td>1.867929</td>\n",
       "    </tr>\n",
       "    <tr>\n",
       "      <th>2</th>\n",
       "      <td>130nplus</td>\n",
       "      <td>r96</td>\n",
       "      <td>400C</td>\n",
       "      <td>1.0</td>\n",
       "      <td>0.014694</td>\n",
       "      <td>NaN</td>\n",
       "      <td>0.014694</td>\n",
       "      <td>0.014694</td>\n",
       "      <td>0.014694</td>\n",
       "      <td>0.014694</td>\n",
       "      <td>0.014694</td>\n",
       "    </tr>\n",
       "    <tr>\n",
       "      <th>3</th>\n",
       "      <td>130nplus</td>\n",
       "      <td>r96</td>\n",
       "      <td>500C</td>\n",
       "      <td>5.0</td>\n",
       "      <td>0.035610</td>\n",
       "      <td>0.011255</td>\n",
       "      <td>0.022761</td>\n",
       "      <td>0.023991</td>\n",
       "      <td>0.041604</td>\n",
       "      <td>0.044790</td>\n",
       "      <td>0.044907</td>\n",
       "    </tr>\n",
       "    <tr>\n",
       "      <th>4</th>\n",
       "      <td>130nplus</td>\n",
       "      <td>r48</td>\n",
       "      <td>400C</td>\n",
       "      <td>2.0</td>\n",
       "      <td>0.049890</td>\n",
       "      <td>0.004062</td>\n",
       "      <td>0.047018</td>\n",
       "      <td>0.048454</td>\n",
       "      <td>0.049890</td>\n",
       "      <td>0.051327</td>\n",
       "      <td>0.052763</td>\n",
       "    </tr>\n",
       "    <tr>\n",
       "      <th>5</th>\n",
       "      <td>130nplus</td>\n",
       "      <td>r48</td>\n",
       "      <td>500C</td>\n",
       "      <td>1.0</td>\n",
       "      <td>0.036386</td>\n",
       "      <td>NaN</td>\n",
       "      <td>0.036386</td>\n",
       "      <td>0.036386</td>\n",
       "      <td>0.036386</td>\n",
       "      <td>0.036386</td>\n",
       "      <td>0.036386</td>\n",
       "    </tr>\n",
       "    <tr>\n",
       "      <th>6</th>\n",
       "      <td>260nplus</td>\n",
       "      <td>int</td>\n",
       "      <td>400C</td>\n",
       "      <td>1.0</td>\n",
       "      <td>2.464489</td>\n",
       "      <td>NaN</td>\n",
       "      <td>2.464489</td>\n",
       "      <td>2.464489</td>\n",
       "      <td>2.464489</td>\n",
       "      <td>2.464489</td>\n",
       "      <td>2.464489</td>\n",
       "    </tr>\n",
       "    <tr>\n",
       "      <th>7</th>\n",
       "      <td>260nplus</td>\n",
       "      <td>int</td>\n",
       "      <td>500C</td>\n",
       "      <td>1.0</td>\n",
       "      <td>1.750993</td>\n",
       "      <td>NaN</td>\n",
       "      <td>1.750993</td>\n",
       "      <td>1.750993</td>\n",
       "      <td>1.750993</td>\n",
       "      <td>1.750993</td>\n",
       "      <td>1.750993</td>\n",
       "    </tr>\n",
       "    <tr>\n",
       "      <th>8</th>\n",
       "      <td>260nplus</td>\n",
       "      <td>r96</td>\n",
       "      <td>400C</td>\n",
       "      <td>3.0</td>\n",
       "      <td>0.021436</td>\n",
       "      <td>0.002188</td>\n",
       "      <td>0.018911</td>\n",
       "      <td>0.020774</td>\n",
       "      <td>0.022638</td>\n",
       "      <td>0.022699</td>\n",
       "      <td>0.022759</td>\n",
       "    </tr>\n",
       "    <tr>\n",
       "      <th>9</th>\n",
       "      <td>260nplus</td>\n",
       "      <td>r96</td>\n",
       "      <td>500C</td>\n",
       "      <td>4.0</td>\n",
       "      <td>0.049379</td>\n",
       "      <td>0.011771</td>\n",
       "      <td>0.038744</td>\n",
       "      <td>0.039756</td>\n",
       "      <td>0.048218</td>\n",
       "      <td>0.057840</td>\n",
       "      <td>0.062335</td>\n",
       "    </tr>\n",
       "    <tr>\n",
       "      <th>10</th>\n",
       "      <td>260nplus</td>\n",
       "      <td>r48</td>\n",
       "      <td>400C</td>\n",
       "      <td>1.0</td>\n",
       "      <td>0.216437</td>\n",
       "      <td>NaN</td>\n",
       "      <td>0.216437</td>\n",
       "      <td>0.216437</td>\n",
       "      <td>0.216437</td>\n",
       "      <td>0.216437</td>\n",
       "      <td>0.216437</td>\n",
       "    </tr>\n",
       "    <tr>\n",
       "      <th>11</th>\n",
       "      <td>260nplus</td>\n",
       "      <td>r48</td>\n",
       "      <td>500C</td>\n",
       "      <td>1.0</td>\n",
       "      <td>0.846043</td>\n",
       "      <td>NaN</td>\n",
       "      <td>0.846043</td>\n",
       "      <td>0.846043</td>\n",
       "      <td>0.846043</td>\n",
       "      <td>0.846043</td>\n",
       "      <td>0.846043</td>\n",
       "    </tr>\n",
       "    <tr>\n",
       "      <th>12</th>\n",
       "      <td>pSi</td>\n",
       "      <td>int</td>\n",
       "      <td>400C</td>\n",
       "      <td>1.0</td>\n",
       "      <td>5.394476</td>\n",
       "      <td>NaN</td>\n",
       "      <td>5.394476</td>\n",
       "      <td>5.394476</td>\n",
       "      <td>5.394476</td>\n",
       "      <td>5.394476</td>\n",
       "      <td>5.394476</td>\n",
       "    </tr>\n",
       "    <tr>\n",
       "      <th>13</th>\n",
       "      <td>pSi</td>\n",
       "      <td>int</td>\n",
       "      <td>500C</td>\n",
       "      <td>1.0</td>\n",
       "      <td>6.060188</td>\n",
       "      <td>NaN</td>\n",
       "      <td>6.060188</td>\n",
       "      <td>6.060188</td>\n",
       "      <td>6.060188</td>\n",
       "      <td>6.060188</td>\n",
       "      <td>6.060188</td>\n",
       "    </tr>\n",
       "    <tr>\n",
       "      <th>14</th>\n",
       "      <td>pSi</td>\n",
       "      <td>r96</td>\n",
       "      <td>400C</td>\n",
       "      <td>6.0</td>\n",
       "      <td>22.541563</td>\n",
       "      <td>33.693587</td>\n",
       "      <td>0.032092</td>\n",
       "      <td>1.195583</td>\n",
       "      <td>8.365811</td>\n",
       "      <td>26.601695</td>\n",
       "      <td>86.999835</td>\n",
       "    </tr>\n",
       "    <tr>\n",
       "      <th>15</th>\n",
       "      <td>pSi</td>\n",
       "      <td>r96</td>\n",
       "      <td>500C</td>\n",
       "      <td>12.0</td>\n",
       "      <td>0.040586</td>\n",
       "      <td>0.013205</td>\n",
       "      <td>0.021125</td>\n",
       "      <td>0.032783</td>\n",
       "      <td>0.035026</td>\n",
       "      <td>0.049367</td>\n",
       "      <td>0.062761</td>\n",
       "    </tr>\n",
       "    <tr>\n",
       "      <th>16</th>\n",
       "      <td>pSi</td>\n",
       "      <td>r48</td>\n",
       "      <td>400C</td>\n",
       "      <td>1.0</td>\n",
       "      <td>0.041765</td>\n",
       "      <td>NaN</td>\n",
       "      <td>0.041765</td>\n",
       "      <td>0.041765</td>\n",
       "      <td>0.041765</td>\n",
       "      <td>0.041765</td>\n",
       "      <td>0.041765</td>\n",
       "    </tr>\n",
       "    <tr>\n",
       "      <th>17</th>\n",
       "      <td>pSi</td>\n",
       "      <td>r48</td>\n",
       "      <td>500C</td>\n",
       "      <td>1.0</td>\n",
       "      <td>0.607330</td>\n",
       "      <td>NaN</td>\n",
       "      <td>0.607330</td>\n",
       "      <td>0.607330</td>\n",
       "      <td>0.607330</td>\n",
       "      <td>0.607330</td>\n",
       "      <td>0.607330</td>\n",
       "    </tr>\n",
       "  </tbody>\n",
       "</table>\n",
       "</div>"
      ],
      "text/plain": [
       "   substrate doping anneal  count       mean        std       min       25%  \\\n",
       "0   130nplus    int   400C    1.0   2.043717        NaN  2.043717  2.043717   \n",
       "1   130nplus    int   500C    1.0   1.867929        NaN  1.867929  1.867929   \n",
       "2   130nplus    r96   400C    1.0   0.014694        NaN  0.014694  0.014694   \n",
       "3   130nplus    r96   500C    5.0   0.035610   0.011255  0.022761  0.023991   \n",
       "4   130nplus    r48   400C    2.0   0.049890   0.004062  0.047018  0.048454   \n",
       "5   130nplus    r48   500C    1.0   0.036386        NaN  0.036386  0.036386   \n",
       "6   260nplus    int   400C    1.0   2.464489        NaN  2.464489  2.464489   \n",
       "7   260nplus    int   500C    1.0   1.750993        NaN  1.750993  1.750993   \n",
       "8   260nplus    r96   400C    3.0   0.021436   0.002188  0.018911  0.020774   \n",
       "9   260nplus    r96   500C    4.0   0.049379   0.011771  0.038744  0.039756   \n",
       "10  260nplus    r48   400C    1.0   0.216437        NaN  0.216437  0.216437   \n",
       "11  260nplus    r48   500C    1.0   0.846043        NaN  0.846043  0.846043   \n",
       "12       pSi    int   400C    1.0   5.394476        NaN  5.394476  5.394476   \n",
       "13       pSi    int   500C    1.0   6.060188        NaN  6.060188  6.060188   \n",
       "14       pSi    r96   400C    6.0  22.541563  33.693587  0.032092  1.195583   \n",
       "15       pSi    r96   500C   12.0   0.040586   0.013205  0.021125  0.032783   \n",
       "16       pSi    r48   400C    1.0   0.041765        NaN  0.041765  0.041765   \n",
       "17       pSi    r48   500C    1.0   0.607330        NaN  0.607330  0.607330   \n",
       "\n",
       "         50%        75%        max  \n",
       "0   2.043717   2.043717   2.043717  \n",
       "1   1.867929   1.867929   1.867929  \n",
       "2   0.014694   0.014694   0.014694  \n",
       "3   0.041604   0.044790   0.044907  \n",
       "4   0.049890   0.051327   0.052763  \n",
       "5   0.036386   0.036386   0.036386  \n",
       "6   2.464489   2.464489   2.464489  \n",
       "7   1.750993   1.750993   1.750993  \n",
       "8   0.022638   0.022699   0.022759  \n",
       "9   0.048218   0.057840   0.062335  \n",
       "10  0.216437   0.216437   0.216437  \n",
       "11  0.846043   0.846043   0.846043  \n",
       "12  5.394476   5.394476   5.394476  \n",
       "13  6.060188   6.060188   6.060188  \n",
       "14  8.365811  26.601695  86.999835  \n",
       "15  0.035026   0.049367   0.062761  \n",
       "16  0.041765   0.041765   0.041765  \n",
       "17  0.607330   0.607330   0.607330  "
      ]
     },
     "execution_count": 9,
     "metadata": {},
     "output_type": "execute_result"
    }
   ],
   "source": [
    "dataRho = full_df[['piece','substrate', 'doping', 'anneal', 'R', 'area', 'rho_c']]\n",
    "dataRho.groupby(['substrate', 'doping', 'anneal'])['rho_c'].describe().reset_index()"
   ]
  },
  {
   "cell_type": "code",
   "execution_count": 53,
   "metadata": {},
   "outputs": [
    {
     "data": {
      "application/javascript": [
       "\n",
       "        if (window._pyforest_update_imports_cell) { window._pyforest_update_imports_cell('import matplotlib.pyplot as plt'); }\n",
       "    "
      ],
      "text/plain": [
       "<IPython.core.display.Javascript object>"
      ]
     },
     "metadata": {},
     "output_type": "display_data"
    },
    {
     "data": {
      "image/png": "[encoded data removed]",
      "text/plain": [
       "<Figure size 781.75x360 with 2 Axes>"
      ]
     },
     "metadata": {},
     "output_type": "display_data"
    }
   ],
   "source": [
    "df = dataRho\n",
    "if __name__ == \"__main__\":\n",
    "    import seaborn as sns\n",
    "    sns.set_style('whitegrid')\n",
    "    p = sns.catplot(\n",
    "        col = 'substrate', \n",
    "        y = 'mean', \n",
    "        hue = 'anneal', \n",
    "        order = ['int', 'r96', 'r48'],\n",
    "        x = 'doping',\n",
    "        kind = 'bar',\n",
    "        data = (df\n",
    "                .query('substrate != \"pSi\"')\n",
    "                .groupby(['substrate', 'doping', 'anneal'])['rho_c'].describe().reset_index()\n",
    "        )\n",
    "    )\n",
    "    (p\n",
    "     .set_axis_labels(\"\", \"$\\\\rho_c$\")\n",
    "     .set_titles('{col_name}')\n",
    "    )\n",
    "    plt.yscale('log')\n",
    "    p.fig.subplots_adjust(wspace = 0)"
   ]
  },
  {
   "cell_type": "code",
   "execution_count": 15,
   "metadata": {},
   "outputs": [
    {
     "data": {
      "application/javascript": [
       "\n",
       "        if (window._pyforest_update_imports_cell) { window._pyforest_update_imports_cell('import seaborn as sns'); }\n",
       "    "
      ],
      "text/plain": [
       "<IPython.core.display.Javascript object>"
      ]
     },
     "metadata": {},
     "output_type": "display_data"
    },
    {
     "data": {
      "image/png": "[encoded data removed]",
      "text/plain": [
       "<Figure size 360x360 with 1 Axes>"
      ]
     },
     "metadata": {
      "needs_background": "light"
     },
     "output_type": "display_data"
    }
   ],
   "source": [
    "if __name__ == \"__main__\":\n",
    "    p = sns.catplot(\n",
    "        data = (df\n",
    "                #.assign(lbl = lambda data: pd.Series(list(zip(data.anneal, data.doping, data.substrate))).astype(pd.CategoricalDtype())),\n",
    "                .assign(lbl = lambda d: d.substrate.str.cat(others = [d.doping, d.anneal], sep = ' '))\n",
    "                .query('doping == \"r96\" and substrate == \"pSi\" and anneal == \"500C\"')\n",
    "               ),\n",
    "        x = 'piece',\n",
    "        y = 'rho_c',\n",
    "        #hue = 'piece',\n",
    "        # col = 'substrate',\n",
    "        kind = 'swarm',\n",
    "    )\n",
    "\n",
    "    p.set(\n",
    "        yscale = 'log',\n",
    "        #ylim = [0, None],\n",
    "    )"
   ]
  },
  {
   "cell_type": "code",
   "execution_count": 12,
   "metadata": {},
   "outputs": [
    {
     "data": {
      "image/png": "[encoded data removed]",
      "text/plain": [
       "<Figure size 432x288 with 1 Axes>"
      ]
     },
     "metadata": {
      "needs_background": "light"
     },
     "output_type": "display_data"
    }
   ],
   "source": [
    "data = (df\n",
    "        .assign(lbl = lambda d: d.substrate.str.cat(others = [d.doping, d.anneal], sep = ' '))\n",
    "        .query('doping == \"r96\" and substrate == \"pSi\" and anneal == \"500C\"')\n",
    "       )\n",
    "\n",
    "if __name__ == \"__main__\":\n",
    "    p = sns.lineplot(\n",
    "        data = data.reset_index(),\n",
    "        x = 'index',\n",
    "        y = 'rho_c',\n",
    "        hue = 'piece',\n",
    "    )"
   ]
  }
 ],
 "metadata": {
  "kernelspec": {
   "display_name": "Python 3 (ipykernel)",
   "language": "python",
   "name": "python3"
  },
  "language_info": {
   "codemirror_mode": {
    "name": "ipython",
    "version": 3
   },
   "file_extension": ".py",
   "mimetype": "text/x-python",
   "name": "python",
   "nbconvert_exporter": "python",
   "pygments_lexer": "ipython3",
   "version": "3.8.10"
  }
 },
 "nbformat": 4,
 "nbformat_minor": 4
}

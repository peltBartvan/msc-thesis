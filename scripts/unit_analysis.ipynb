{
 "cells": [
  {
   "cell_type": "code",
   "execution_count": 1,
   "id": "92dff0a9-48b3-4d77-8be6-e4893f6a3853",
   "metadata": {},
   "outputs": [
    {
     "name": "stdout",
     "output_type": "stream",
     "text": [
      "importing Jupyter notebook from mergeData.ipynb\n",
      "importing Jupyter notebook from hall_data.ipynb\n",
      "importing Jupyter notebook from rho_c_data.ipynb\n"
     ]
    }
   ],
   "source": [
    "import import_ipynb\n",
    "from mergeData import HSE, HallUnits, SEUnits\n",
    "from astropy import units as u\n",
    "from astropy import constants as const\n",
    "from units import UnitDataFrame"
   ]
  },
  {
   "cell_type": "code",
   "execution_count": 2,
   "id": "40de3afc-4fdc-4dec-8ce8-d056495415dd",
   "metadata": {},
   "outputs": [],
   "source": [
    "allUnits = {**HallUnits, **SEUnits}\n",
    "\n",
    "udf = UnitDataFrame(\n",
    "    HSE.copy(),\n",
    "    units = allUnits,\n",
    ")"
   ]
  },
  {
   "cell_type": "code",
   "execution_count": 3,
   "id": "c27a4f86-540f-4680-ae68-90ec4c514315",
   "metadata": {},
   "outputs": [],
   "source": [
    "udf['rho_corr'] = (udf.t_AZO*udf.rho_sh).values.to(u.Ohm*u.m)\n",
    "udf['n_corr']   = (udf.n_sh/udf.t_AZO).values.to(u.m**-3)\n",
    "udf['R_H_corr'] = (udf.t_AZO*udf.R_H_sh).values.to(u.m**3/u.C)\n",
    "#udf['omega_p'] = udf.omega_p.values.to(u.Hz, equivalencies = u.spectral()).to(u.rad/u.s, equivalencies = [(u.cycle/u.s, u.Hz)])\n",
    "\n",
    "# convert to radians/s\n",
    "udf['omega_p_rps'] = (udf.omega_p.values\n",
    "    .to(u.Hz, equivalencies = u.spectral())\n",
    "    .to(u.rad/u.s, equivalencies = [(u.cycle/u.s, u.Hz)])\n",
    "    .to(1/u.s, equivalencies = u.dimensionless_angles())\n",
    "    )\n",
    "\n",
    "udf['omega_t_rps'] = (udf.omega_t.values\n",
    "    .to(u.Hz, equivalencies = u.spectral())\n",
    "    .to(u.rad/u.s, equivalencies = [(u.cycle/u.s, u.Hz)])\n",
    "    .to(1/u.s, equivalencies = u.dimensionless_angles())\n",
    "    )\n",
    "\n",
    "udf['mu_opt'] = (\n",
    "    (udf.omega_p_rps **2/udf.omega_t_rps)\n",
    "    .values\n",
    "    *const.eps0/(const.e.si*udf.n_corr.values.to(u.m**-3))\n",
    "    ).to(u.cm**2/(u.V*u.s))\n",
    "\n",
    "udf['m_eff'] = (\n",
    "    const.e.si\n",
    "    /(udf.omega_t_rps.values*udf.mu_opt.values)\n",
    "    ).to(const.m_e)"
   ]
  },
  {
   "cell_type": "code",
   "execution_count": 4,
   "id": "4cb8fd17-93b4-44e2-9ccf-e3d17a9709ba",
   "metadata": {},
   "outputs": [
    {
     "data": {
      "text/plain": [
       "{'MSE': None,\n",
       " 'roughness': Unit(\"nm\"),\n",
       " 't_AlOx': Unit(\"nm\"),\n",
       " 't_AZO': Unit(\"nm\"),\n",
       " 'AZO_Einf': Unit(\"eV\"),\n",
       " 'TL_Amp': Unit(\"eV\"),\n",
       " 'TL_Br': Unit(\"eV\"),\n",
       " 'TL_E0': Unit(\"eV\"),\n",
       " 'TL_Eg': Unit(\"eV\"),\n",
       " 'omega_p': Unit(\"eV\"),\n",
       " 'omega_t': Unit(\"eV\"),\n",
       " 't_SiOx': Unit(\"nm\"),\n",
       " 't_int': Unit(\"nm\"),\n",
       " 'offset_angle': None,\n",
       " 'doping': None,\n",
       " 'capping': None,\n",
       " 'anneal': None,\n",
       " 'mu_H': Unit(\"m2 V / s\"),\n",
       " 'Carrier type': None,\n",
       " 'n': Unit(\"1 / m3\"),\n",
       " 'n_sh': Unit(\"1 / m2\"),\n",
       " 'R_H': Unit(\"m3 / C\"),\n",
       " 'R_H_sh': Unit(\"m2 / C\"),\n",
       " 'rho': Unit(\"m Ohm\"),\n",
       " 'rho_sh': Unit(\"Ohm\"),\n",
       " 'V_H': Unit(\"V\"),\n",
       " 'd_AZO_Hall': Unit(\"nm\"),\n",
       " 'rho_corr': Unit(\"m Ohm\"),\n",
       " 'n_corr': Unit(\"1 / m3\"),\n",
       " 'R_H_corr': Unit(\"m3 / C\"),\n",
       " 'omega_p_rps': Unit(\"1 / s\"),\n",
       " 'omega_t_rps': Unit(\"1 / s\"),\n",
       " 'mu_opt': Unit(\"cm2 / (s V)\"),\n",
       " 'm_eff': Unit(\"9.10938e-31 kg\")}"
      ]
     },
     "execution_count": 4,
     "metadata": {},
     "output_type": "execute_result"
    }
   ],
   "source": [
    "udf.get_units()"
   ]
  },
  {
   "cell_type": "code",
   "execution_count": null,
   "id": "ce24f1fd-61bc-44b4-a8ba-e3ff7bf4ff99",
   "metadata": {},
   "outputs": [],
   "source": [
    "# exports\n",
    "df_export = udf\n",
    "units_export = allUnits"
   ]
  }
 ],
 "metadata": {
  "kernelspec": {
   "display_name": "Python 3 (ipykernel)",
   "language": "python",
   "name": "python3"
  },
  "language_info": {
   "codemirror_mode": {
    "name": "ipython",
    "version": 3
   },
   "file_extension": ".py",
   "mimetype": "text/x-python",
   "name": "python",
   "nbconvert_exporter": "python",
   "pygments_lexer": "ipython3",
   "version": "3.8.10"
  }
 },
 "nbformat": 4,
 "nbformat_minor": 5
}
